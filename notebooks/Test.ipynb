{
 "cells": [
  {
   "cell_type": "code",
   "execution_count": 1,
   "metadata": {},
   "outputs": [],
   "source": [
    "%load_ext autoreload\n",
    "%autoreload 2\n",
    "\n",
    "import pandas as pd"
   ]
  },
  {
   "cell_type": "code",
   "execution_count": 2,
   "metadata": {},
   "outputs": [
    {
     "name": "stdout",
     "output_type": "stream",
     "text": [
      "/Users/alextrahey/Code/college-nationals\n"
     ]
    }
   ],
   "source": [
    "cd .."
   ]
  },
  {
   "cell_type": "code",
   "execution_count": 37,
   "metadata": {},
   "outputs": [],
   "source": [
    "import ultimate\n",
    "from ultimate import Team, Game, Tournament, utils"
   ]
  },
  {
   "cell_type": "code",
   "execution_count": 7,
   "metadata": {},
   "outputs": [
    {
     "name": "stdout",
     "output_type": "stream",
     "text": [
      "UCLA Smaug 2200 []\n",
      "UCSB Black Tide 2100 []\n",
      "UCSD Air Squids 2000 []\n",
      "Cal UGMO 1900 []\n"
     ]
    }
   ],
   "source": [
    "\n",
    "#\n",
    "# Tests for Team class\n",
    "#\n",
    "ucla = Team(name=\"UCLA\", rating=2200, nickname=\"Smaug\")\n",
    "ucsb = Team(name=\"UCSB\", rating=2100, nickname=\"Black Tide\")\n",
    "ucsd = Team(name=\"UCSD\", rating=2000, nickname=\"Air Squids\")\n",
    "cal = Team(name=\"Cal\", rating=1900, nickname=\"UGMO\")\n",
    "print(ucla.name, ucla.nickname, ucla.rating, ucla.games_list)\n",
    "print(ucsb.name, ucsb.nickname, ucsb.rating, ucsb.games_list)\n",
    "print(ucsd.name, ucsd.nickname, ucsd.rating, ucsd.games_list)\n",
    "print(cal.name, cal.nickname, cal.rating, cal.games_list)\n",
    "\n"
   ]
  },
  {
   "cell_type": "code",
   "execution_count": 8,
   "metadata": {},
   "outputs": [
    {
     "name": "stdout",
     "output_type": "stream",
     "text": [
      "\n",
      "Game 0 (method='random')\n",
      "UCLA 13-15 UCSB\n",
      "Score *should* be only 15-13 or 13-15.\n",
      "\n",
      "Game 1\n",
      "UCLA 15-10 UCSB\n"
     ]
    }
   ],
   "source": [
    "\n",
    "# Game 0\n",
    "print(\"\\nGame 0 (method='random')\")\n",
    "ucla_vs_ucsb = Game(ucla, ucsb)\n",
    "ucla_vs_ucsb.play_game(method=\"random\")\n",
    "print(\"Score *should* be only 15-13 or 13-15.\")\n",
    "\n",
    "mens_p_a_offense, mens_k, mens_rating_diff_to_victory_margin, game_to = utils.get_default_parameters(\n",
    "    \"men\"\n",
    ")\n",
    "\n",
    "# Game 1\n",
    "print(\"\\nGame 1\")\n",
    "ucla_vs_ucsb = Game(ucla, ucsb)\n",
    "ucla_vs_ucsb.play_game(\n",
    "    method=\"double negative binomial\",\n",
    "    rating_diff_to_victory_margin=mens_rating_diff_to_victory_margin,\n",
    "    p_a_offense=mens_p_a_offense,\n",
    ")"
   ]
  },
  {
   "cell_type": "code",
   "execution_count": 9,
   "metadata": {},
   "outputs": [
    {
     "name": "stdout",
     "output_type": "stream",
     "text": [
      "\n",
      "Tournament 0\n",
      "semi: UCLA 15-9 UCSB\n",
      "semi: Cal 15-10 UCSD\n",
      "final: UCLA 15-11 Cal\n"
     ]
    }
   ],
   "source": [
    "\n",
    "# Tournament 0\n",
    "print(\"\\nTournament 0\")\n",
    "semi1 = Game(ucla, ucsb, level=\"semi\")\n",
    "semi2 = Game(cal, ucsd, level=\"semi\")\n",
    "finals = Game(None, None, semi1, semi2, level=\"final\")\n",
    "\n",
    "finals.play_game(\n",
    "    method=\"double negative binomial\",\n",
    "    rating_diff_to_victory_margin=mens_rating_diff_to_victory_margin,\n",
    "    p_a_offense=mens_p_a_offense,\n",
    ")\n"
   ]
  },
  {
   "cell_type": "code",
   "execution_count": 10,
   "metadata": {},
   "outputs": [
    {
     "name": "stdout",
     "output_type": "stream",
     "text": [
      "UCLA 1-0 Cal\n",
      "UCLA 1-1 Cal\n",
      "UCLA 2-1 Cal\n",
      "UCLA 2-2 Cal\n",
      "UCLA 3-2 Cal\n",
      "UCLA 3-3 Cal\n",
      "UCLA 4-3 Cal\n",
      "UCLA 4-4 Cal\n",
      "UCLA 5-4 Cal\n",
      "UCLA 5-5 Cal\n",
      "UCLA 6-5 Cal\n",
      "UCLA 6-6 Cal\n",
      "UCLA 7-6 Cal\n",
      "UCLA 8-6 Cal\n",
      "UCLA 8-7 Cal\n",
      "UCLA 8-8 Cal\n",
      "UCLA 9-8 Cal\n",
      "UCLA 9-9 Cal\n",
      "UCLA 10-9 Cal\n",
      "UCLA 10-10 Cal\n",
      "UCLA 11-10 Cal\n",
      "UCLA 12-10 Cal\n",
      "UCLA 13-10 Cal\n",
      "UCLA 13-11 Cal\n",
      "UCLA 14-11 Cal\n",
      "UCLA 15-11 Cal\n"
     ]
    }
   ],
   "source": [
    "finals.display_point_log()"
   ]
  },
  {
   "cell_type": "code",
   "execution_count": 11,
   "metadata": {},
   "outputs": [
    {
     "name": "stdout",
     "output_type": "stream",
     "text": [
      "\n",
      "Eight team bracket\n",
      "quarter: UCLA 15-6 CalPolySLO\n",
      "quarter: UCSB 15-13 Whitman\n",
      "quarter: UCSD 13-15 Oregon\n",
      "quarter: Cal 14-15 UW\n",
      "semi: UCLA 15-8 UW\n",
      "semi: UCSB 15-11 Oregon\n",
      "final: UCLA 15-6 UCSB\n",
      "UCLA\n"
     ]
    }
   ],
   "source": [
    "\n",
    "# Tests for playing 8 team bracket\n",
    "print(\"\\nEight team bracket\")\n",
    "ucla = Team(name=\"UCLA\", rating=2200, nickname=\"Smaug\", games_list=[])\n",
    "ucsb = Team(name=\"UCSB\", rating=2100, nickname=\"Black Tide\")\n",
    "ucsd = Team(name=\"UCSD\", rating=2000, nickname=\"Air Squids\")\n",
    "cal = Team(name=\"Cal\", rating=1900, nickname=\"UGMO\")\n",
    "uw = Team(name=\"UW\", rating=1800, nickname=\"Sundodgers\")\n",
    "ore = Team(name=\"Oregon\", rating=1700, nickname=\"Ego\")\n",
    "whit = Team(name=\"Whitman\", rating=1600, nickname=\"Sweets\")\n",
    "slo = Team(name=\"CalPolySLO\", rating=1500, nickname=\"Slocore\")\n",
    "\n",
    "teams_list = [ucla, ucsb, ucsd, cal, uw, ore, whit, slo]\n",
    "\n",
    "placement = ultimate.tournament.play_eight_team_single_elimination_bracket(\n",
    "    teams_list,\n",
    "    method=\"double negative binomial\",\n",
    "    rating_diff_to_victory_margin=mens_rating_diff_to_victory_margin,\n",
    "    p_a_offense=mens_p_a_offense,\n",
    ")\n",
    "\n",
    "print(placement[0][1].name)"
   ]
  },
  {
   "cell_type": "code",
   "execution_count": 39,
   "metadata": {},
   "outputs": [],
   "source": [
    "from ultimate import tournament"
   ]
  },
  {
   "cell_type": "code",
   "execution_count": 51,
   "metadata": {},
   "outputs": [
    {
     "name": "stdout",
     "output_type": "stream",
     "text": [
      "UCLA 15-11 Cal\n",
      "UCSB 15-11 UCSD\n",
      "UCLA 15-13 UCSB\n",
      "Cal 15-10 UCSD\n",
      "UCSB 15-12 Cal\n"
     ]
    },
    {
     "data": {
      "text/plain": [
       "[UCLA (Smaug), UCSB (Black Tide), Cal (UGMO), UCSD (Air Squids)]"
      ]
     },
     "execution_count": 51,
     "metadata": {},
     "output_type": "execute_result"
    }
   ],
   "source": [
    "four_teams = [ucla, ucsb, ucsd, cal]\n",
    "b = tournament.BracketFourTwoOne(teams_list=four_teams)\n",
    "b.play_games()\n",
    "b.determine_placement()"
   ]
  },
  {
   "cell_type": "code",
   "execution_count": 54,
   "metadata": {},
   "outputs": [
    {
     "name": "stdout",
     "output_type": "stream",
     "text": [
      "UCSB 13-15 UCSD\n",
      "UCLA 15-13 UCSD\n",
      "Cal 15-9 Oregon\n",
      "UCSB 15-13 Cal\n"
     ]
    },
    {
     "data": {
      "text/plain": [
       "[UCLA (Smaug), UCSD (Air Squids), UCSB (Black Tide), Cal (UGMO), Oregon (Ego)]"
      ]
     },
     "execution_count": 54,
     "metadata": {},
     "output_type": "execute_result"
    }
   ],
   "source": [
    "five_teams = [ucla, ucsb, ucsd, cal, ore]\n",
    "b = tournament.BracketFiveOne(teams_list=five_teams)\n",
    "b.play_games()\n",
    "b.determine_placement()"
   ]
  },
  {
   "cell_type": "code",
   "execution_count": 66,
   "metadata": {},
   "outputs": [
    {
     "name": "stdout",
     "output_type": "stream",
     "text": [
      "UCLA 15-7 Oregon\n",
      "UCSB 15-9 UW\n",
      "UCLA 15-7 UCSB\n",
      "UCSD 15-6 CalPolySLO\n",
      "Cal 15-9 Whitman\n",
      "Oregon 11-15 UCSD\n",
      "Cal 15-11 UW\n",
      "UCSD 12-15 Cal\n",
      "UCSB 12-15 Cal\n",
      "CalPolySLO 14-15 Whitman\n",
      "Oregon 9-15 UW\n"
     ]
    },
    {
     "data": {
      "text/plain": [
       "[UCLA (Smaug),\n",
       " Cal (UGMO),\n",
       " UCSB (Black Tide),\n",
       " UCSD (Air Squids),\n",
       " UW (Sundodgers),\n",
       " Oregon (Ego),\n",
       " Whitman (Sweets),\n",
       " CalPolySLO (Slocore)]"
      ]
     },
     "execution_count": 66,
     "metadata": {},
     "output_type": "execute_result"
    }
   ],
   "source": [
    "b = tournament.BracketEightTwoOne(teams_list[:4], teams_list[4:])\n",
    "b.play_games()\n",
    "b.determine_placement()"
   ]
  },
  {
   "cell_type": "code",
   "execution_count": 63,
   "metadata": {},
   "outputs": [
    {
     "data": {
      "text/plain": [
       "[UCLA (Smaug), UCSB (Black Tide), UCSD (Air Squids)]"
      ]
     },
     "execution_count": 63,
     "metadata": {},
     "output_type": "execute_result"
    }
   ],
   "source": [
    "teams_list[:3]"
   ]
  },
  {
   "cell_type": "code",
   "execution_count": 21,
   "metadata": {},
   "outputs": [],
   "source": [
    "\n",
    "womens_ranking_html = r\"Rankings/USAU_team_rankings.women.2020-03-11.html\"\n",
    "mens_ranking_html = r\"Rankings/USAU_team_rankings.men.2020-03-11.html\"\n",
    "\n",
    "# Use pandas html reader to extract dataframe\n",
    "result = pd.read_html(womens_ranking_html)\n",
    "df_women = result[0].rename(columns=lambda x: x.replace(' ', '_').lower()).iloc[0: -1]\n",
    "\n",
    "result = pd.read_html(mens_ranking_html)\n",
    "df_men = result[0].rename(columns=lambda x: x.replace(' ', '_').lower()).iloc[0: -1]"
   ]
  },
  {
   "cell_type": "code",
   "execution_count": 30,
   "metadata": {},
   "outputs": [
    {
     "data": {
      "text/plain": [
       "{'Atlantic Coast': 1,\n",
       " 'Northwest': 1,\n",
       " 'Southwest': 1,\n",
       " 'South Central': 1,\n",
       " 'Ohio Valley': 1,\n",
       " 'New England': 1,\n",
       " 'North Central': 1,\n",
       " 'Great Lakes': 1,\n",
       " 'Southeast': 1,\n",
       " 'Metro East': 1}"
      ]
     },
     "execution_count": 30,
     "metadata": {},
     "output_type": "execute_result"
    }
   ],
   "source": [
    "d1 = df_men[df_men.competition_division == 'Division I']\n",
    "regions = d1.college_region.unique()\n",
    "bids = \n"
   ]
  },
  {
   "cell_type": "code",
   "execution_count": 85,
   "metadata": {},
   "outputs": [
    {
     "name": "stdout",
     "output_type": "stream",
     "text": [
      "[North Carolina (), North Carolina State (), Virginia Tech (), South Carolina ()]\n",
      "North Carolina 15-8 North Carolina State\n",
      "North Carolina 15-4 South Carolina\n",
      "North Carolina 15-2 Virginia Tech\n",
      "North Carolina State 7-15 North Carolina\n",
      "North Carolina State 14-15 South Carolina\n",
      "North Carolina State 15-8 Virginia Tech\n",
      "South Carolina 9-15 North Carolina\n",
      "South Carolina 15-13 North Carolina State\n",
      "South Carolina 15-8 Virginia Tech\n",
      "Virginia Tech 4-15 North Carolina\n",
      "Virginia Tech 12-15 North Carolina State\n",
      "Virginia Tech 6-15 South Carolina\n",
      "[James Madison (), North Carolina-Wilmington (), William & Mary (), Virginia ()]\n",
      "North Carolina-Wilmington 15-11 William & Mary\n",
      "North Carolina-Wilmington 15-13 James Madison\n",
      "North Carolina-Wilmington 15-12 Virginia\n",
      "William & Mary 15-12 North Carolina-Wilmington\n",
      "William & Mary 15-8 James Madison\n",
      "William & Mary 15-10 Virginia\n",
      "James Madison 12-15 North Carolina-Wilmington\n",
      "James Madison 11-15 William & Mary\n",
      "James Madison 15-8 Virginia\n",
      "Virginia 8-15 North Carolina-Wilmington\n",
      "Virginia 5-15 William & Mary\n",
      "Virginia 11-15 James Madison\n",
      "North Carolina 15-6 Virginia\n",
      "William & Mary 13-15 North Carolina State\n",
      "South Carolina 15-14 James Madison\n",
      "North Carolina-Wilmington 15-9 Virginia Tech\n",
      "North Carolina 15-6 North Carolina State\n",
      "South Carolina 15-13 North Carolina-Wilmington\n",
      "North Carolina 15-3 South Carolina\n",
      "Virginia 8-15 William & Mary\n",
      "James Madison 15-12 Virginia Tech\n",
      "William & Mary 15-10 James Madison\n",
      "North Carolina State 12-15 North Carolina-Wilmington\n",
      "Virginia 15-14 Virginia Tech\n"
     ]
    },
    {
     "data": {
      "text/plain": [
       "[North Carolina (),\n",
       " South Carolina (),\n",
       " North Carolina-Wilmington (),\n",
       " North Carolina State (),\n",
       " William & Mary (),\n",
       " James Madison (),\n",
       " Virginia (),\n",
       " Virginia Tech ()]"
      ]
     },
     "execution_count": 85,
     "metadata": {},
     "output_type": "execute_result"
    }
   ],
   "source": [
    "def regional_tournament(region, n_teams=8, n_bids=1):\n",
    "    teams = d1[d1.college_region == region].head(n_teams).apply(lambda r: Team(name=r.team, rating=int(r.power_rating), region=r.college_region), axis=1)\n",
    "    pool_a = tournament.RoundRobinTournament(teams_list=teams.iloc[[0, 2, 4, 6]].tolist())\n",
    "    pool_b = tournament.RoundRobinTournament(teams_list=teams.iloc[[1, 3, 5, 7]].tolist())\n",
    "    print(pool_a.teams_list)\n",
    "    pool_a.play_games()\n",
    "    print(pool_b.teams_list)\n",
    "    pool_b.play_games()\n",
    "    bracket = tournament.BracketEightOne(pool_a.determine_placement(), pool_b.determine_placement())\n",
    "    bracket.play_games()\n",
    "    return bracket.determine_placement()\n",
    "\n",
    "regional_tournament('Atlantic Coast')\n",
    "\n",
    "\n",
    "#      def __init__(\n",
    "#         self, name=\"\", rating=\"\", nickname=\"\", games_list=None, section=\"\", region=\"\"\n",
    "#     ):"
   ]
  },
  {
   "cell_type": "code",
   "execution_count": 54,
   "metadata": {},
   "outputs": [],
   "source": [
    "# b.play_games()\n",
    "region = 'Atlantic Coast'\n",
    "n_teams=8\n",
    "teams = d1[d1.college_region == region].head(n_teams).apply(lambda r: Team(name=r.team, rating=int(r.power_rating), region=r.college_region), axis=1).tolist()"
   ]
  },
  {
   "cell_type": "code",
   "execution_count": 83,
   "metadata": {},
   "outputs": [
    {
     "data": {
      "text/plain": [
       "ultimate.team.Team"
      ]
     },
     "execution_count": 83,
     "metadata": {},
     "output_type": "execute_result"
    }
   ],
   "source": []
  },
  {
   "cell_type": "code",
   "execution_count": 77,
   "metadata": {},
   "outputs": [
    {
     "data": {
      "text/plain": [
       "{'Team A': North Carolina (),\n",
       " 'Team B': North Carolina State (),\n",
       " 'Team A Name': 'North Carolina',\n",
       " 'Team B Name': 'North Carolina State',\n",
       " 'Team A Score': 15,\n",
       " 'Team B Score': 5,\n",
       " 'Winner': North Carolina (),\n",
       " 'Loser': North Carolina State (),\n",
       " 'Winner Name': 'North Carolina',\n",
       " 'Loser Name': 'North Carolina State'}"
      ]
     },
     "execution_count": 77,
     "metadata": {},
     "output_type": "execute_result"
    }
   ],
   "source": []
  },
  {
   "cell_type": "code",
   "execution_count": null,
   "metadata": {},
   "outputs": [],
   "source": []
  }
 ],
 "metadata": {
  "kernelspec": {
   "display_name": "Python 3",
   "language": "python",
   "name": "python3"
  },
  "language_info": {
   "codemirror_mode": {
    "name": "ipython",
    "version": 3
   },
   "file_extension": ".py",
   "mimetype": "text/x-python",
   "name": "python",
   "nbconvert_exporter": "python",
   "pygments_lexer": "ipython3",
   "version": "3.7.6"
  }
 },
 "nbformat": 4,
 "nbformat_minor": 4
}
