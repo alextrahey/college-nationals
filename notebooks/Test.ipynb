{
 "cells": [
  {
   "cell_type": "code",
   "execution_count": 214,
   "metadata": {},
   "outputs": [
    {
     "name": "stdout",
     "output_type": "stream",
     "text": [
      "The autoreload extension is already loaded. To reload it, use:\n",
      "  %reload_ext autoreload\n"
     ]
    }
   ],
   "source": [
    "%load_ext autoreload\n",
    "%autoreload 2\n",
    "%load_ext lab_black\n",
    "import pandas as pd"
   ]
  },
  {
   "cell_type": "code",
   "execution_count": 2,
   "metadata": {},
   "outputs": [
    {
     "name": "stdout",
     "output_type": "stream",
     "text": [
      "/Users/alextrahey/Code/college-nationals\n"
     ]
    }
   ],
   "source": [
    "cd .."
   ]
  },
  {
   "cell_type": "code",
   "execution_count": 37,
   "metadata": {},
   "outputs": [],
   "source": [
    "import ultimate\n",
    "from ultimate import Team, Game, Tournament, utils"
   ]
  },
  {
   "cell_type": "code",
   "execution_count": 7,
   "metadata": {},
   "outputs": [
    {
     "name": "stdout",
     "output_type": "stream",
     "text": [
      "UCLA Smaug 2200 []\n",
      "UCSB Black Tide 2100 []\n",
      "UCSD Air Squids 2000 []\n",
      "Cal UGMO 1900 []\n"
     ]
    }
   ],
   "source": [
    "\n",
    "#\n",
    "# Tests for Team class\n",
    "#\n",
    "ucla = Team(name=\"UCLA\", rating=2200, nickname=\"Smaug\")\n",
    "ucsb = Team(name=\"UCSB\", rating=2100, nickname=\"Black Tide\")\n",
    "ucsd = Team(name=\"UCSD\", rating=2000, nickname=\"Air Squids\")\n",
    "cal = Team(name=\"Cal\", rating=1900, nickname=\"UGMO\")\n",
    "print(ucla.name, ucla.nickname, ucla.rating, ucla.games_list)\n",
    "print(ucsb.name, ucsb.nickname, ucsb.rating, ucsb.games_list)\n",
    "print(ucsd.name, ucsd.nickname, ucsd.rating, ucsd.games_list)\n",
    "print(cal.name, cal.nickname, cal.rating, cal.games_list)\n",
    "\n"
   ]
  },
  {
   "cell_type": "code",
   "execution_count": 89,
   "metadata": {},
   "outputs": [
    {
     "name": "stdout",
     "output_type": "stream",
     "text": [
      "\n",
      "Game 0 (method='random')\n",
      "UCLA 15-13 UCSB\n",
      "Score *should* be only 15-13 or 13-15.\n",
      "\n",
      "Game 1\n",
      "UCLA 15-14 UCSB\n"
     ]
    }
   ],
   "source": [
    "\n",
    "# Game 0\n",
    "print(\"\\nGame 0 (method='random')\")\n",
    "ucla_vs_ucsb = Game(ucla, ucsb)\n",
    "ucla_vs_ucsb.play_game(method=\"random\")\n",
    "print(\"Score *should* be only 15-13 or 13-15.\")\n",
    "\n",
    "mens_p_a_offense, mens_k, mens_rating_diff_to_victory_margin, game_to = utils.get_default_parameters(\n",
    "    \"men\"\n",
    ")\n",
    "\n",
    "# Game 1\n",
    "print(\"\\nGame 1\")\n",
    "ucla_vs_ucsb = Game(ucla, ucsb)\n",
    "ucla_vs_ucsb.play_game(\n",
    "    method=\"double negative binomial\",\n",
    "    rating_diff_to_victory_margin=mens_rating_diff_to_victory_margin,\n",
    "    p_a_offense=mens_p_a_offense,\n",
    ")"
   ]
  },
  {
   "cell_type": "code",
   "execution_count": 90,
   "metadata": {},
   "outputs": [
    {
     "name": "stdout",
     "output_type": "stream",
     "text": [
      "\n",
      "Tournament 0\n",
      "semi: UCLA 8-15 UCSB\n",
      "semi: Cal 12-15 UCSD\n",
      "final: UCSB 9-15 UCSD\n"
     ]
    }
   ],
   "source": [
    "\n",
    "# Tournament 0\n",
    "print(\"\\nTournament 0\")\n",
    "semi1 = Game(ucla, ucsb, level=\"semi\")\n",
    "semi2 = Game(cal, ucsd, level=\"semi\")\n",
    "finals = Game(None, None, semi1, semi2, level=\"final\")\n",
    "\n",
    "finals.play_game(\n",
    "    method=\"double negative binomial\",\n",
    "    rating_diff_to_victory_margin=mens_rating_diff_to_victory_margin,\n",
    "    p_a_offense=mens_p_a_offense,\n",
    ")\n"
   ]
  },
  {
   "cell_type": "code",
   "execution_count": 91,
   "metadata": {},
   "outputs": [
    {
     "name": "stdout",
     "output_type": "stream",
     "text": [
      "UCSB 0-1 UCSD\n",
      "UCSB 1-1 UCSD\n",
      "UCSB 1-2 UCSD\n",
      "UCSB 1-3 UCSD\n",
      "UCSB 2-3 UCSD\n",
      "UCSB 2-4 UCSD\n",
      "UCSB 2-5 UCSD\n",
      "UCSB 3-5 UCSD\n",
      "UCSB 4-5 UCSD\n",
      "UCSB 4-6 UCSD\n",
      "UCSB 5-6 UCSD\n",
      "UCSB 5-7 UCSD\n",
      "UCSB 5-8 UCSD\n",
      "UCSB 6-8 UCSD\n",
      "UCSB 6-9 UCSD\n",
      "UCSB 7-9 UCSD\n",
      "UCSB 7-10 UCSD\n",
      "UCSB 8-10 UCSD\n",
      "UCSB 8-11 UCSD\n",
      "UCSB 8-12 UCSD\n",
      "UCSB 9-12 UCSD\n",
      "UCSB 9-13 UCSD\n",
      "UCSB 9-14 UCSD\n",
      "UCSB 9-15 UCSD\n"
     ]
    }
   ],
   "source": [
    "finals.display_point_log()"
   ]
  },
  {
   "cell_type": "code",
   "execution_count": 92,
   "metadata": {},
   "outputs": [
    {
     "name": "stdout",
     "output_type": "stream",
     "text": [
      "\n",
      "Eight team bracket\n"
     ]
    },
    {
     "ename": "TypeError",
     "evalue": "Can't instantiate abstract class Tournament with abstract methods determine_placement",
     "output_type": "error",
     "traceback": [
      "\u001b[0;31m---------------------------------------------------------------------------\u001b[0m",
      "\u001b[0;31mTypeError\u001b[0m                                 Traceback (most recent call last)",
      "\u001b[0;32m<ipython-input-92-9a0d05f1dead>\u001b[0m in \u001b[0;36m<module>\u001b[0;34m\u001b[0m\n\u001b[1;32m     17\u001b[0m     \u001b[0mmethod\u001b[0m\u001b[0;34m=\u001b[0m\u001b[0;34m\"double negative binomial\"\u001b[0m\u001b[0;34m,\u001b[0m\u001b[0;34m\u001b[0m\u001b[0;34m\u001b[0m\u001b[0m\n\u001b[1;32m     18\u001b[0m     \u001b[0mrating_diff_to_victory_margin\u001b[0m\u001b[0;34m=\u001b[0m\u001b[0mmens_rating_diff_to_victory_margin\u001b[0m\u001b[0;34m,\u001b[0m\u001b[0;34m\u001b[0m\u001b[0;34m\u001b[0m\u001b[0m\n\u001b[0;32m---> 19\u001b[0;31m     \u001b[0mp_a_offense\u001b[0m\u001b[0;34m=\u001b[0m\u001b[0mmens_p_a_offense\u001b[0m\u001b[0;34m,\u001b[0m\u001b[0;34m\u001b[0m\u001b[0;34m\u001b[0m\u001b[0m\n\u001b[0m\u001b[1;32m     20\u001b[0m )\n\u001b[1;32m     21\u001b[0m \u001b[0;34m\u001b[0m\u001b[0m\n",
      "\u001b[0;32m~/Code/college-nationals/ultimate/tournament.py\u001b[0m in \u001b[0;36mplay_eight_team_single_elimination_bracket\u001b[0;34m(teams_list, num_bids, method, rating_diff_to_victory_margin, p_a_offense)\u001b[0m\n\u001b[1;32m    488\u001b[0m     \u001b[0mf\u001b[0m \u001b[0;34m=\u001b[0m \u001b[0mGame\u001b[0m\u001b[0;34m(\u001b[0m\u001b[0mchild_a\u001b[0m\u001b[0;34m=\u001b[0m\u001b[0ms1\u001b[0m\u001b[0;34m,\u001b[0m \u001b[0mchild_b\u001b[0m\u001b[0;34m=\u001b[0m\u001b[0ms2\u001b[0m\u001b[0;34m,\u001b[0m \u001b[0mlevel\u001b[0m\u001b[0;34m=\u001b[0m\u001b[0;34m\"final\"\u001b[0m\u001b[0;34m)\u001b[0m\u001b[0;34m\u001b[0m\u001b[0;34m\u001b[0m\u001b[0m\n\u001b[1;32m    489\u001b[0m \u001b[0;34m\u001b[0m\u001b[0m\n\u001b[0;32m--> 490\u001b[0;31m     \u001b[0mtourney\u001b[0m \u001b[0;34m=\u001b[0m \u001b[0mTournament\u001b[0m\u001b[0;34m(\u001b[0m\u001b[0mgames_list\u001b[0m\u001b[0;34m=\u001b[0m\u001b[0;34m[\u001b[0m\u001b[0mq1\u001b[0m\u001b[0;34m,\u001b[0m \u001b[0mq2\u001b[0m\u001b[0;34m,\u001b[0m \u001b[0mq3\u001b[0m\u001b[0;34m,\u001b[0m \u001b[0mq4\u001b[0m\u001b[0;34m,\u001b[0m \u001b[0ms1\u001b[0m\u001b[0;34m,\u001b[0m \u001b[0ms2\u001b[0m\u001b[0;34m,\u001b[0m \u001b[0mf\u001b[0m\u001b[0;34m]\u001b[0m\u001b[0;34m)\u001b[0m\u001b[0;34m\u001b[0m\u001b[0;34m\u001b[0m\u001b[0m\n\u001b[0m\u001b[1;32m    491\u001b[0m \u001b[0;34m\u001b[0m\u001b[0m\n\u001b[1;32m    492\u001b[0m     tourney.play_games(\n",
      "\u001b[0;31mTypeError\u001b[0m: Can't instantiate abstract class Tournament with abstract methods determine_placement"
     ]
    }
   ],
   "source": [
    "\n",
    "# Tests for playing 8 team bracket\n",
    "print(\"\\nEight team bracket\")\n",
    "ucla = Team(name=\"UCLA\", rating=2200, nickname=\"Smaug\", games_list=[])\n",
    "ucsb = Team(name=\"UCSB\", rating=2100, nickname=\"Black Tide\")\n",
    "ucsd = Team(name=\"UCSD\", rating=2000, nickname=\"Air Squids\")\n",
    "cal = Team(name=\"Cal\", rating=1900, nickname=\"UGMO\")\n",
    "uw = Team(name=\"UW\", rating=1800, nickname=\"Sundodgers\")\n",
    "ore = Team(name=\"Oregon\", rating=1700, nickname=\"Ego\")\n",
    "whit = Team(name=\"Whitman\", rating=1600, nickname=\"Sweets\")\n",
    "slo = Team(name=\"CalPolySLO\", rating=1500, nickname=\"Slocore\")\n",
    "\n",
    "teams_list = [ucla, ucsb, ucsd, cal, uw, ore, whit, slo]\n",
    "\n",
    "placement = ultimate.tournament.play_eight_team_single_elimination_bracket(\n",
    "    teams_list,\n",
    "    method=\"double negative binomial\",\n",
    "    rating_diff_to_victory_margin=mens_rating_diff_to_victory_margin,\n",
    "    p_a_offense=mens_p_a_offense,\n",
    ")\n",
    "\n",
    "print(placement[0][1].name)"
   ]
  },
  {
   "cell_type": "code",
   "execution_count": 39,
   "metadata": {},
   "outputs": [],
   "source": [
    "from ultimate import tournament"
   ]
  },
  {
   "cell_type": "code",
   "execution_count": 97,
   "metadata": {},
   "outputs": [
    {
     "data": {
      "text/plain": [
       "\n",
       "                Game between UCLA and Cal has not yet been played. Expected Score is: Score(team_a=15, team_b=10.34685804629219, point_log=[(15, 10.34685804629219)])\n",
       "            "
      ]
     },
     "execution_count": 97,
     "metadata": {},
     "output_type": "execute_result"
    }
   ],
   "source": [
    "four_teams = [ucla, ucsb, ucsd, cal]\n",
    "b = tournament.BracketFourTwoOne(teams_list=four_teams)\n",
    "b.games_list[0]\n",
    "# b.play_games()\n",
    "# b.determine_placement()"
   ]
  },
  {
   "cell_type": "code",
   "execution_count": 96,
   "metadata": {},
   "outputs": [
    {
     "ename": "AttributeError",
     "evalue": "'NoneType' object has no attribute 'name'",
     "output_type": "error",
     "traceback": [
      "\u001b[0;31m---------------------------------------------------------------------------\u001b[0m",
      "\u001b[0;31mAttributeError\u001b[0m                            Traceback (most recent call last)",
      "\u001b[0;32m/usr/local/lib/python3.7/site-packages/IPython/core/formatters.py\u001b[0m in \u001b[0;36m__call__\u001b[0;34m(self, obj)\u001b[0m\n\u001b[1;32m    700\u001b[0m                 \u001b[0mtype_pprinters\u001b[0m\u001b[0;34m=\u001b[0m\u001b[0mself\u001b[0m\u001b[0;34m.\u001b[0m\u001b[0mtype_printers\u001b[0m\u001b[0;34m,\u001b[0m\u001b[0;34m\u001b[0m\u001b[0;34m\u001b[0m\u001b[0m\n\u001b[1;32m    701\u001b[0m                 deferred_pprinters=self.deferred_printers)\n\u001b[0;32m--> 702\u001b[0;31m             \u001b[0mprinter\u001b[0m\u001b[0;34m.\u001b[0m\u001b[0mpretty\u001b[0m\u001b[0;34m(\u001b[0m\u001b[0mobj\u001b[0m\u001b[0;34m)\u001b[0m\u001b[0;34m\u001b[0m\u001b[0;34m\u001b[0m\u001b[0m\n\u001b[0m\u001b[1;32m    703\u001b[0m             \u001b[0mprinter\u001b[0m\u001b[0;34m.\u001b[0m\u001b[0mflush\u001b[0m\u001b[0;34m(\u001b[0m\u001b[0;34m)\u001b[0m\u001b[0;34m\u001b[0m\u001b[0;34m\u001b[0m\u001b[0m\n\u001b[1;32m    704\u001b[0m             \u001b[0;32mreturn\u001b[0m \u001b[0mstream\u001b[0m\u001b[0;34m.\u001b[0m\u001b[0mgetvalue\u001b[0m\u001b[0;34m(\u001b[0m\u001b[0;34m)\u001b[0m\u001b[0;34m\u001b[0m\u001b[0;34m\u001b[0m\u001b[0m\n",
      "\u001b[0;32m/usr/local/lib/python3.7/site-packages/IPython/lib/pretty.py\u001b[0m in \u001b[0;36mpretty\u001b[0;34m(self, obj)\u001b[0m\n\u001b[1;32m    383\u001b[0m                 \u001b[0;32mif\u001b[0m \u001b[0mcls\u001b[0m \u001b[0;32min\u001b[0m \u001b[0mself\u001b[0m\u001b[0;34m.\u001b[0m\u001b[0mtype_pprinters\u001b[0m\u001b[0;34m:\u001b[0m\u001b[0;34m\u001b[0m\u001b[0;34m\u001b[0m\u001b[0m\n\u001b[1;32m    384\u001b[0m                     \u001b[0;31m# printer registered in self.type_pprinters\u001b[0m\u001b[0;34m\u001b[0m\u001b[0;34m\u001b[0m\u001b[0;34m\u001b[0m\u001b[0m\n\u001b[0;32m--> 385\u001b[0;31m                     \u001b[0;32mreturn\u001b[0m \u001b[0mself\u001b[0m\u001b[0;34m.\u001b[0m\u001b[0mtype_pprinters\u001b[0m\u001b[0;34m[\u001b[0m\u001b[0mcls\u001b[0m\u001b[0;34m]\u001b[0m\u001b[0;34m(\u001b[0m\u001b[0mobj\u001b[0m\u001b[0;34m,\u001b[0m \u001b[0mself\u001b[0m\u001b[0;34m,\u001b[0m \u001b[0mcycle\u001b[0m\u001b[0;34m)\u001b[0m\u001b[0;34m\u001b[0m\u001b[0;34m\u001b[0m\u001b[0m\n\u001b[0m\u001b[1;32m    386\u001b[0m                 \u001b[0;32melse\u001b[0m\u001b[0;34m:\u001b[0m\u001b[0;34m\u001b[0m\u001b[0;34m\u001b[0m\u001b[0m\n\u001b[1;32m    387\u001b[0m                     \u001b[0;31m# deferred printer\u001b[0m\u001b[0;34m\u001b[0m\u001b[0;34m\u001b[0m\u001b[0;34m\u001b[0m\u001b[0m\n",
      "\u001b[0;32m/usr/local/lib/python3.7/site-packages/IPython/lib/pretty.py\u001b[0m in \u001b[0;36minner\u001b[0;34m(obj, p, cycle)\u001b[0m\n\u001b[1;32m    561\u001b[0m                 \u001b[0mp\u001b[0m\u001b[0;34m.\u001b[0m\u001b[0mtext\u001b[0m\u001b[0;34m(\u001b[0m\u001b[0;34m','\u001b[0m\u001b[0;34m)\u001b[0m\u001b[0;34m\u001b[0m\u001b[0;34m\u001b[0m\u001b[0m\n\u001b[1;32m    562\u001b[0m                 \u001b[0mp\u001b[0m\u001b[0;34m.\u001b[0m\u001b[0mbreakable\u001b[0m\u001b[0;34m(\u001b[0m\u001b[0;34m)\u001b[0m\u001b[0;34m\u001b[0m\u001b[0;34m\u001b[0m\u001b[0m\n\u001b[0;32m--> 563\u001b[0;31m             \u001b[0mp\u001b[0m\u001b[0;34m.\u001b[0m\u001b[0mpretty\u001b[0m\u001b[0;34m(\u001b[0m\u001b[0mx\u001b[0m\u001b[0;34m)\u001b[0m\u001b[0;34m\u001b[0m\u001b[0;34m\u001b[0m\u001b[0m\n\u001b[0m\u001b[1;32m    564\u001b[0m         \u001b[0;32mif\u001b[0m \u001b[0mlen\u001b[0m\u001b[0;34m(\u001b[0m\u001b[0mobj\u001b[0m\u001b[0;34m)\u001b[0m \u001b[0;34m==\u001b[0m \u001b[0;36m1\u001b[0m \u001b[0;32mand\u001b[0m \u001b[0mtype\u001b[0m\u001b[0;34m(\u001b[0m\u001b[0mobj\u001b[0m\u001b[0;34m)\u001b[0m \u001b[0;32mis\u001b[0m \u001b[0mtuple\u001b[0m\u001b[0;34m:\u001b[0m\u001b[0;34m\u001b[0m\u001b[0;34m\u001b[0m\u001b[0m\n\u001b[1;32m    565\u001b[0m             \u001b[0;31m# Special case for 1-item tuples.\u001b[0m\u001b[0;34m\u001b[0m\u001b[0;34m\u001b[0m\u001b[0;34m\u001b[0m\u001b[0m\n",
      "\u001b[0;32m/usr/local/lib/python3.7/site-packages/IPython/lib/pretty.py\u001b[0m in \u001b[0;36mpretty\u001b[0;34m(self, obj)\u001b[0m\n\u001b[1;32m    400\u001b[0m                         \u001b[0;32mif\u001b[0m \u001b[0mcls\u001b[0m \u001b[0;32mis\u001b[0m \u001b[0;32mnot\u001b[0m \u001b[0mobject\u001b[0m\u001b[0;31m \u001b[0m\u001b[0;31m\\\u001b[0m\u001b[0;34m\u001b[0m\u001b[0;34m\u001b[0m\u001b[0m\n\u001b[1;32m    401\u001b[0m                                 \u001b[0;32mand\u001b[0m \u001b[0mcallable\u001b[0m\u001b[0;34m(\u001b[0m\u001b[0mcls\u001b[0m\u001b[0;34m.\u001b[0m\u001b[0m__dict__\u001b[0m\u001b[0;34m.\u001b[0m\u001b[0mget\u001b[0m\u001b[0;34m(\u001b[0m\u001b[0;34m'__repr__'\u001b[0m\u001b[0;34m)\u001b[0m\u001b[0;34m)\u001b[0m\u001b[0;34m:\u001b[0m\u001b[0;34m\u001b[0m\u001b[0;34m\u001b[0m\u001b[0m\n\u001b[0;32m--> 402\u001b[0;31m                             \u001b[0;32mreturn\u001b[0m \u001b[0m_repr_pprint\u001b[0m\u001b[0;34m(\u001b[0m\u001b[0mobj\u001b[0m\u001b[0;34m,\u001b[0m \u001b[0mself\u001b[0m\u001b[0;34m,\u001b[0m \u001b[0mcycle\u001b[0m\u001b[0;34m)\u001b[0m\u001b[0;34m\u001b[0m\u001b[0;34m\u001b[0m\u001b[0m\n\u001b[0m\u001b[1;32m    403\u001b[0m \u001b[0;34m\u001b[0m\u001b[0m\n\u001b[1;32m    404\u001b[0m             \u001b[0;32mreturn\u001b[0m \u001b[0m_default_pprint\u001b[0m\u001b[0;34m(\u001b[0m\u001b[0mobj\u001b[0m\u001b[0;34m,\u001b[0m \u001b[0mself\u001b[0m\u001b[0;34m,\u001b[0m \u001b[0mcycle\u001b[0m\u001b[0;34m)\u001b[0m\u001b[0;34m\u001b[0m\u001b[0;34m\u001b[0m\u001b[0m\n",
      "\u001b[0;32m/usr/local/lib/python3.7/site-packages/IPython/lib/pretty.py\u001b[0m in \u001b[0;36m_repr_pprint\u001b[0;34m(obj, p, cycle)\u001b[0m\n\u001b[1;32m    695\u001b[0m     \u001b[0;34m\"\"\"A pprint that just redirects to the normal repr function.\"\"\"\u001b[0m\u001b[0;34m\u001b[0m\u001b[0;34m\u001b[0m\u001b[0m\n\u001b[1;32m    696\u001b[0m     \u001b[0;31m# Find newlines and replace them with p.break_()\u001b[0m\u001b[0;34m\u001b[0m\u001b[0;34m\u001b[0m\u001b[0;34m\u001b[0m\u001b[0m\n\u001b[0;32m--> 697\u001b[0;31m     \u001b[0moutput\u001b[0m \u001b[0;34m=\u001b[0m \u001b[0mrepr\u001b[0m\u001b[0;34m(\u001b[0m\u001b[0mobj\u001b[0m\u001b[0;34m)\u001b[0m\u001b[0;34m\u001b[0m\u001b[0;34m\u001b[0m\u001b[0m\n\u001b[0m\u001b[1;32m    698\u001b[0m     \u001b[0;32mfor\u001b[0m \u001b[0midx\u001b[0m\u001b[0;34m,\u001b[0m\u001b[0moutput_line\u001b[0m \u001b[0;32min\u001b[0m \u001b[0menumerate\u001b[0m\u001b[0;34m(\u001b[0m\u001b[0moutput\u001b[0m\u001b[0;34m.\u001b[0m\u001b[0msplitlines\u001b[0m\u001b[0;34m(\u001b[0m\u001b[0;34m)\u001b[0m\u001b[0;34m)\u001b[0m\u001b[0;34m:\u001b[0m\u001b[0;34m\u001b[0m\u001b[0;34m\u001b[0m\u001b[0m\n\u001b[1;32m    699\u001b[0m         \u001b[0;32mif\u001b[0m \u001b[0midx\u001b[0m\u001b[0;34m:\u001b[0m\u001b[0;34m\u001b[0m\u001b[0;34m\u001b[0m\u001b[0m\n",
      "\u001b[0;32m~/Code/college-nationals/ultimate/game.py\u001b[0m in \u001b[0;36m__repr__\u001b[0;34m(self)\u001b[0m\n\u001b[1;32m     73\u001b[0m             return f\"\"\"\n\u001b[1;32m     74\u001b[0m                 \u001b[0mGame\u001b[0m \u001b[0mbetween\u001b[0m \u001b[0;34m{\u001b[0m\u001b[0mself\u001b[0m\u001b[0;34m.\u001b[0m\u001b[0mteam_a\u001b[0m\u001b[0;34m.\u001b[0m\u001b[0mname\u001b[0m\u001b[0;34m}\u001b[0m \u001b[0;32mand\u001b[0m \u001b[0;34m{\u001b[0m\u001b[0mself\u001b[0m\u001b[0;34m.\u001b[0m\u001b[0mteam_b\u001b[0m\u001b[0;34m.\u001b[0m\u001b[0mname\u001b[0m\u001b[0;34m}\u001b[0m \u001b[0mhas\u001b[0m \u001b[0;32mnot\u001b[0m \u001b[0myet\u001b[0m \u001b[0mbeen\u001b[0m \u001b[0mplayed\u001b[0m\u001b[0;34m.\u001b[0m \u001b[0mExpected\u001b[0m \u001b[0mScore\u001b[0m \u001b[0;32mis\u001b[0m\u001b[0;34m:\u001b[0m \u001b[0;34m{\u001b[0m\u001b[0mself\u001b[0m\u001b[0;34m.\u001b[0m\u001b[0mexpected_score\u001b[0m\u001b[0;34m}\u001b[0m\u001b[0;34m\u001b[0m\u001b[0;34m\u001b[0m\u001b[0m\n\u001b[0;32m---> 75\u001b[0;31m             \"\"\"\n\u001b[0m\u001b[1;32m     76\u001b[0m \u001b[0;34m\u001b[0m\u001b[0m\n\u001b[1;32m     77\u001b[0m     \u001b[0;32mdef\u001b[0m \u001b[0mdisplay_point_log\u001b[0m\u001b[0;34m(\u001b[0m\u001b[0mself\u001b[0m\u001b[0;34m)\u001b[0m\u001b[0;34m:\u001b[0m\u001b[0;34m\u001b[0m\u001b[0;34m\u001b[0m\u001b[0m\n",
      "\u001b[0;31mAttributeError\u001b[0m: 'NoneType' object has no attribute 'name'"
     ]
    }
   ],
   "source": [
    "five_teams = [ucla, ucsb, ucsd, cal, ore]\n",
    "b = tournament.BracketFiveOne(teams_list=five_teams)\n",
    "b.games_list\n",
    "# b.play_games()\n",
    "# b.determine_placement()"
   ]
  },
  {
   "cell_type": "code",
   "execution_count": 66,
   "metadata": {},
   "outputs": [
    {
     "name": "stdout",
     "output_type": "stream",
     "text": [
      "UCLA 15-7 Oregon\n",
      "UCSB 15-9 UW\n",
      "UCLA 15-7 UCSB\n",
      "UCSD 15-6 CalPolySLO\n",
      "Cal 15-9 Whitman\n",
      "Oregon 11-15 UCSD\n",
      "Cal 15-11 UW\n",
      "UCSD 12-15 Cal\n",
      "UCSB 12-15 Cal\n",
      "CalPolySLO 14-15 Whitman\n",
      "Oregon 9-15 UW\n"
     ]
    },
    {
     "data": {
      "text/plain": [
       "[UCLA (Smaug),\n",
       " Cal (UGMO),\n",
       " UCSB (Black Tide),\n",
       " UCSD (Air Squids),\n",
       " UW (Sundodgers),\n",
       " Oregon (Ego),\n",
       " Whitman (Sweets),\n",
       " CalPolySLO (Slocore)]"
      ]
     },
     "execution_count": 66,
     "metadata": {},
     "output_type": "execute_result"
    }
   ],
   "source": [
    "b = tournament.BracketEightTwoOne(teams_list[:4], teams_list[4:])\n",
    "b.play_games()\n",
    "b.determine_placement()"
   ]
  },
  {
   "cell_type": "code",
   "execution_count": 86,
   "metadata": {},
   "outputs": [
    {
     "data": {
      "text/plain": [
       "<ultimate.tournament.RoundRobinTournament at 0x110def310>"
      ]
     },
     "execution_count": 86,
     "metadata": {},
     "output_type": "execute_result"
    }
   ],
   "source": [
    "b."
   ]
  },
  {
   "cell_type": "code",
   "execution_count": 21,
   "metadata": {},
   "outputs": [],
   "source": [
    "\n",
    "womens_ranking_html = r\"Rankings/USAU_team_rankings.women.2020-03-11.html\"\n",
    "mens_ranking_html = r\"Rankings/USAU_team_rankings.men.2020-03-11.html\"\n",
    "\n",
    "# Use pandas html reader to extract dataframe\n",
    "result = pd.read_html(womens_ranking_html)\n",
    "df_women = result[0].rename(columns=lambda x: x.replace(' ', '_').lower()).iloc[0: -1]\n",
    "\n",
    "result = pd.read_html(mens_ranking_html)\n",
    "df_men = result[0].rename(columns=lambda x: x.replace(' ', '_').lower()).iloc[0: -1]"
   ]
  },
  {
   "cell_type": "code",
   "execution_count": 30,
   "metadata": {},
   "outputs": [
    {
     "data": {
      "text/plain": [
       "{'Atlantic Coast': 1,\n",
       " 'Northwest': 1,\n",
       " 'Southwest': 1,\n",
       " 'South Central': 1,\n",
       " 'Ohio Valley': 1,\n",
       " 'New England': 1,\n",
       " 'North Central': 1,\n",
       " 'Great Lakes': 1,\n",
       " 'Southeast': 1,\n",
       " 'Metro East': 1}"
      ]
     },
     "execution_count": 30,
     "metadata": {},
     "output_type": "execute_result"
    }
   ],
   "source": [
    "d1 = df_men[df_men.competition_division == 'Division I']\n",
    "regions = d1.college_region.unique()\n",
    "bids = \n"
   ]
  },
  {
   "cell_type": "code",
   "execution_count": 85,
   "metadata": {},
   "outputs": [
    {
     "name": "stdout",
     "output_type": "stream",
     "text": [
      "[North Carolina (), North Carolina State (), Virginia Tech (), South Carolina ()]\n",
      "North Carolina 15-8 North Carolina State\n",
      "North Carolina 15-4 South Carolina\n",
      "North Carolina 15-2 Virginia Tech\n",
      "North Carolina State 7-15 North Carolina\n",
      "North Carolina State 14-15 South Carolina\n",
      "North Carolina State 15-8 Virginia Tech\n",
      "South Carolina 9-15 North Carolina\n",
      "South Carolina 15-13 North Carolina State\n",
      "South Carolina 15-8 Virginia Tech\n",
      "Virginia Tech 4-15 North Carolina\n",
      "Virginia Tech 12-15 North Carolina State\n",
      "Virginia Tech 6-15 South Carolina\n",
      "[James Madison (), North Carolina-Wilmington (), William & Mary (), Virginia ()]\n",
      "North Carolina-Wilmington 15-11 William & Mary\n",
      "North Carolina-Wilmington 15-13 James Madison\n",
      "North Carolina-Wilmington 15-12 Virginia\n",
      "William & Mary 15-12 North Carolina-Wilmington\n",
      "William & Mary 15-8 James Madison\n",
      "William & Mary 15-10 Virginia\n",
      "James Madison 12-15 North Carolina-Wilmington\n",
      "James Madison 11-15 William & Mary\n",
      "James Madison 15-8 Virginia\n",
      "Virginia 8-15 North Carolina-Wilmington\n",
      "Virginia 5-15 William & Mary\n",
      "Virginia 11-15 James Madison\n",
      "North Carolina 15-6 Virginia\n",
      "William & Mary 13-15 North Carolina State\n",
      "South Carolina 15-14 James Madison\n",
      "North Carolina-Wilmington 15-9 Virginia Tech\n",
      "North Carolina 15-6 North Carolina State\n",
      "South Carolina 15-13 North Carolina-Wilmington\n",
      "North Carolina 15-3 South Carolina\n",
      "Virginia 8-15 William & Mary\n",
      "James Madison 15-12 Virginia Tech\n",
      "William & Mary 15-10 James Madison\n",
      "North Carolina State 12-15 North Carolina-Wilmington\n",
      "Virginia 15-14 Virginia Tech\n"
     ]
    },
    {
     "data": {
      "text/plain": [
       "[North Carolina (),\n",
       " South Carolina (),\n",
       " North Carolina-Wilmington (),\n",
       " North Carolina State (),\n",
       " William & Mary (),\n",
       " James Madison (),\n",
       " Virginia (),\n",
       " Virginia Tech ()]"
      ]
     },
     "execution_count": 85,
     "metadata": {},
     "output_type": "execute_result"
    }
   ],
   "source": [
    "def regional_tournament(region, n_teams=8, n_bids=1):\n",
    "    teams = d1[d1.college_region == region].head(n_teams).apply(lambda r: Team(name=r.team, rating=int(r.power_rating), region=r.college_region), axis=1)\n",
    "    pool_a = tournament.RoundRobinTournament(teams_list=teams.iloc[[0, 2, 4, 6]].tolist())\n",
    "    pool_b = tournament.RoundRobinTournament(teams_list=teams.iloc[[1, 3, 5, 7]].tolist())\n",
    "    print(pool_a.teams_list)\n",
    "    pool_a.play_games()\n",
    "    print(pool_b.teams_list)\n",
    "    pool_b.play_games()\n",
    "    bracket = tournament.BracketEightOne(pool_a.determine_placement(), pool_b.determine_placement())\n",
    "    bracket.play_games()\n",
    "    return bracket.determine_placement()\n",
    "\n",
    "regional_tournament('Atlantic Coast')\n",
    "\n",
    "\n",
    "#      def __init__(\n",
    "#         self, name=\"\", rating=\"\", nickname=\"\", games_list=None, section=\"\", region=\"\"\n",
    "#     ):"
   ]
  },
  {
   "cell_type": "code",
   "execution_count": 110,
   "metadata": {},
   "outputs": [],
   "source": [
    "# b.play_games()\n",
    "region = 'Atlantic Coast'\n",
    "teams = d1[d1.college_region == region].head(n_teams).apply(lambda r: Team(name=r.team, rating=int(r.power_rating), region=r.college_region), axis=1).tolist()"
   ]
  },
  {
   "cell_type": "code",
   "execution_count": 128,
   "metadata": {},
   "outputs": [
    {
     "data": {
      "text/plain": [
       "{'Atlantic Coast': 1,\n",
       " 'Northwest': 4,\n",
       " 'Southwest': 3,\n",
       " 'South Central': 2,\n",
       " 'Ohio Valley': 2,\n",
       " 'New England': 3,\n",
       " 'North Central': 2,\n",
       " 'Great Lakes': 1,\n",
       " 'Southeast': 1,\n",
       " 'Metro East': 1}"
      ]
     },
     "execution_count": 128,
     "metadata": {},
     "output_type": "execute_result"
    }
   ],
   "source": [
    "\n",
    "bids"
   ]
  },
  {
   "cell_type": "code",
   "execution_count": 262,
   "metadata": {},
   "outputs": [
    {
     "name": "stdout",
     "output_type": "stream",
     "text": [
      "\n",
      "\n",
      "PLAYING Atlantic Coast\n",
      "pool: North Carolina 15-3 Virginia\n",
      "pool: North Carolina 15-1 Duke\n",
      "pool: North Carolina 15-5 Clemson\n",
      "pool: Virginia 15-14 Duke\n",
      "pool: Virginia 15-11 Clemson\n",
      "pool: Duke 15-9 Clemson\n",
      "pool: North Carolina-Wilmington 15-8 Virginia Tech\n",
      "pool: North Carolina-Wilmington 15-5 North Carolina-Charlotte\n",
      "pool: North Carolina-Wilmington 15-2 Virginia Commonwealth University\n",
      "pool: Virginia Tech 15-11 North Carolina-Charlotte\n",
      "pool: Virginia Tech 15-9 Virginia Commonwealth University\n",
      "pool: North Carolina-Charlotte 15-14 Virginia Commonwealth University\n",
      "pool: North Carolina State 15-11 James Madison\n",
      "pool: North Carolina State 15-7 Liberty\n",
      "pool: North Carolina State 15-7 Appalachian State\n",
      "pool: James Madison 15-13 Liberty\n",
      "pool: James Madison 15-5 Appalachian State\n",
      "pool: Liberty 15-10 Appalachian State\n",
      "pool: William & Mary 15-11 South Carolina\n",
      "pool: William & Mary 15-9 Georgetown\n",
      "pool: William & Mary 15-11 Maryland\n",
      "pool: South Carolina 15-11 Georgetown\n",
      "pool: South Carolina 15-7 Maryland\n",
      "pool: Georgetown 15-12 Maryland\n",
      "prequarters: Virginia Tech 15-10 Liberty\n",
      "prequarters: James Madison 15-10 North Carolina-Charlotte\n",
      "prequarters: Duke 10-15 South Carolina\n",
      "prequarters: Georgetown 12-15 Virginia\n",
      "quarters: North Carolina 15-3 Virginia Tech\n",
      "quarters: William & Mary 12-15 James Madison\n",
      "quarters: North Carolina State 15-10 South Carolina\n",
      "quarters: North Carolina-Wilmington 15-8 Virginia\n",
      "semis: North Carolina 15-4 James Madison\n",
      "semis: North Carolina State 15-13 North Carolina-Wilmington\n",
      "final: North Carolina 15-7 North Carolina State\n",
      "last 4: Clemson 15-13 Virginia Commonwealth University\n",
      "last 4: Appalachian State 12-15 Maryland\n",
      "QUALIFIERS: [North Carolina ()] \n",
      "\n",
      "\n",
      "\n",
      "PLAYING Great Lakes\n",
      "pool: Michigan 15-11 Chicago\n",
      "pool: Michigan 15-6 Ball State\n",
      "pool: Chicago 15-12 Ball State\n",
      "pool: Northwestern 15-9 Indiana\n",
      "pool: Northwestern 15-5 Michigan State\n",
      "pool: Indiana 15-9 Michigan State\n",
      "pool: Notre Dame 15-7 Kentucky\n",
      "pool: Notre Dame 15-12 Illinois State\n",
      "pool: Kentucky 15-4 Illinois State\n",
      "pool: Purdue 15-12 Illinois\n",
      "pool: Purdue 15-1 Kentucky B\n",
      "pool: Illinois 15-1 Kentucky B\n",
      "Indiana 15-10 Illinois State\n",
      "Kentucky 15-10 Michigan State\n",
      "Illinois 15-10 Ball State\n",
      "Kentucky B 4-15 Chicago\n",
      "quarter: Michigan 15-9 Indiana\n",
      "quarter: Purdue 15-9 Kentucky\n",
      "quarter: Notre Dame 15-12 Illinois\n",
      "quarter: Northwestern 15-12 Chicago\n",
      "semi: Michigan 15-10 Purdue\n",
      "semi: Notre Dame 9-15 Northwestern\n",
      "final: Michigan 15-12 Northwestern\n",
      "3rd place: Purdue 15-9 Notre Dame\n",
      "5th place semis: Indiana 13-15 Illinois\n",
      "5th place semis: Kentucky 15-9 Chicago\n",
      "5th place: Illinois 14-15 Kentucky\n",
      "Indiana 15-12 Chicago\n",
      "9th place semis: Illinois State 15-13 Michigan State\n",
      "9th place semis: Ball State 15-2 Kentucky B\n",
      "9th place: Illinois State 15-12 Ball State\n",
      "11th place: Michigan State 15-6 Kentucky B\n",
      "QUALIFIERS: [Michigan ()] \n",
      "\n",
      "\n",
      "\n",
      "PLAYING Metro East\n",
      "pool: Cornell 15-11 Yale\n",
      "pool: Cornell 15-7 SUNY-Stony Brook\n",
      "pool: Yale 15-13 SUNY-Stony Brook\n",
      "pool: Connecticut 15-9 SUNY-Albany\n",
      "pool: Connecticut 15-7 RIT\n",
      "pool: SUNY-Albany 15-12 RIT\n",
      "pool: Princeton 15-14 Syracuse\n",
      "pool: Princeton 15-2 NYU\n",
      "pool: Syracuse 15-8 NYU\n",
      "pool: SUNY-Binghamton 11-15 SUNY-Buffalo\n",
      "pool: SUNY-Binghamton 15-2 Rowan\n",
      "pool: SUNY-Buffalo 15-8 Rowan\n",
      "SUNY-Albany 15-12 NYU\n",
      "Syracuse 15-5 RIT\n",
      "SUNY-Binghamton 15-9 SUNY-Stony Brook\n",
      "Rowan 7-15 Yale\n",
      "quarter: Cornell 15-11 SUNY-Albany\n",
      "quarter: SUNY-Buffalo 15-12 Syracuse\n",
      "quarter: Princeton 15-12 SUNY-Binghamton\n",
      "quarter: Connecticut 15-11 Yale\n",
      "semi: Cornell 15-6 SUNY-Buffalo\n",
      "semi: Princeton 11-15 Connecticut\n",
      "final: Cornell 15-13 Connecticut\n",
      "3rd place: SUNY-Buffalo 12-15 Princeton\n",
      "5th place semis: SUNY-Albany 6-15 SUNY-Binghamton\n",
      "5th place semis: Syracuse 13-15 Yale\n",
      "5th place: SUNY-Binghamton 15-8 Yale\n",
      "SUNY-Albany 12-15 Syracuse\n",
      "9th place semis: NYU 9-15 RIT\n",
      "9th place semis: SUNY-Stony Brook 15-11 Rowan\n",
      "9th place: RIT 15-14 SUNY-Stony Brook\n",
      "11th place: NYU 14-15 Rowan\n",
      "QUALIFIERS: [Cornell ()] \n",
      "\n",
      "\n",
      "\n",
      "PLAYING New England\n",
      "pool: Massachusetts 15-3 Boston College\n",
      "pool: Massachusetts 15-2 Harvard\n",
      "pool: Boston College 15-6 Harvard\n",
      "pool: Brown 15-11 Boston University\n",
      "pool: Brown 15-1 Maine\n",
      "pool: Boston University 15-10 Maine\n",
      "pool: Tufts 15-9 Northeastern\n",
      "pool: Tufts 15-1 Rhode Island\n",
      "pool: Northeastern 15-3 Rhode Island\n",
      "pool: Vermont 11-15 Dartmouth\n",
      "pool: Vermont 15-6 New Hampshire\n",
      "pool: Dartmouth 15-1 New Hampshire\n",
      "Boston University 15-8 Rhode Island\n",
      "Northeastern 15-5 Maine\n",
      "Vermont 15-6 Harvard\n",
      "New Hampshire 6-15 Boston College\n",
      "quarter: Massachusetts 15-3 Boston University\n",
      "quarter: Dartmouth 15-12 Northeastern\n",
      "quarter: Tufts 15-12 Vermont\n",
      "quarter: Brown 15-5 Boston College\n",
      "semi: Massachusetts 15-7 Dartmouth\n",
      "semi: Tufts 13-15 Brown\n",
      "final: Massachusetts 15-13 Brown\n",
      "3rd place: Dartmouth 11-15 Tufts\n",
      "5th place semis: Boston University 5-15 Vermont\n",
      "5th place semis: Northeastern 15-6 Boston College\n",
      "5th place: Vermont 15-10 Northeastern\n",
      "Boston University 15-11 Boston College\n",
      "9th place semis: Rhode Island 15-13 Maine\n",
      "9th place semis: Harvard 15-4 New Hampshire\n",
      "9th place: Rhode Island 8-15 Harvard\n",
      "11th place: Maine 10-15 New Hampshire\n",
      "QUALIFIERS: [Massachusetts (), Brown (), Tufts ()] \n",
      "\n",
      "\n",
      "\n",
      "PLAYING North Central\n",
      "pool: Carleton College-CUT 15-2 Nebraska\n",
      "pool: Carleton College-CUT 15-4 Iowa\n",
      "pool: Nebraska 15-14 Iowa\n",
      "pool: Minnesota 15-3 Wisconsin-Whitewater\n",
      "pool: Minnesota 15-1 Wisconsin-Eau Claire\n",
      "pool: Wisconsin-Whitewater 15-11 Wisconsin-Eau Claire\n",
      "pool: Wisconsin 15-10 Minnesota-Duluth\n",
      "pool: Wisconsin 15-3 Creighton\n",
      "pool: Minnesota-Duluth 15-8 Creighton\n",
      "pool: Wisconsin-Milwaukee 11-15 Iowa State\n",
      "pool: Wisconsin-Milwaukee 15-4 Northern Iowa\n",
      "pool: Iowa State 15-1 Northern Iowa\n",
      "Wisconsin-Whitewater 15-12 Creighton\n",
      "Minnesota-Duluth 15-12 Wisconsin-Eau Claire\n",
      "Wisconsin-Milwaukee 15-9 Iowa\n",
      "Northern Iowa 7-15 Nebraska\n",
      "quarter: Carleton College-CUT 15-8 Wisconsin-Whitewater\n",
      "quarter: Iowa State 7-15 Minnesota-Duluth\n",
      "quarter: Wisconsin 15-10 Wisconsin-Milwaukee\n",
      "quarter: Minnesota 15-6 Nebraska\n",
      "semi: Carleton College-CUT 15-3 Minnesota-Duluth\n",
      "semi: Wisconsin 15-12 Minnesota\n",
      "final: Carleton College-CUT 15-9 Wisconsin\n",
      "3rd place: Minnesota-Duluth 7-15 Minnesota\n",
      "5th place semis: Wisconsin-Whitewater 13-15 Wisconsin-Milwaukee\n",
      "5th place semis: Iowa State 15-8 Nebraska\n",
      "5th place: Wisconsin-Milwaukee 15-14 Iowa State\n",
      "Wisconsin-Whitewater 15-9 Nebraska\n",
      "9th place semis: Creighton 10-15 Wisconsin-Eau Claire\n",
      "9th place semis: Iowa 15-11 Northern Iowa\n",
      "9th place: Wisconsin-Eau Claire 10-15 Iowa\n",
      "11th place: Creighton 15-13 Northern Iowa\n",
      "QUALIFIERS: [Carleton College-CUT (), Wisconsin ()] \n",
      "\n",
      "\n",
      "\n",
      "PLAYING Northwest\n",
      "pool: Washington 15-9 Utah State\n",
      "pool: Washington 15-2 Whitman\n",
      "pool: Utah State 15-10 Whitman\n",
      "pool: Brigham Young 15-6 Utah\n",
      "pool: Brigham Young 15-7 Victoria\n",
      "pool: Utah 15-12 Victoria\n",
      "pool: Oregon 15-9 Western Washington\n",
      "pool: Oregon 15-6 Montana State\n",
      "pool: Western Washington 15-14 Montana State\n",
      "pool: British Columbia 15-12 Oregon State\n",
      "pool: British Columbia 15-6 Gonzaga\n",
      "pool: Oregon State 15-2 Gonzaga\n"
     ]
    },
    {
     "ename": "UnboundLocalError",
     "evalue": "local variable 't' referenced before assignment",
     "output_type": "error",
     "traceback": [
      "\u001b[0;31m---------------------------------------------------------------------------\u001b[0m",
      "\u001b[0;31mUnboundLocalError\u001b[0m                         Traceback (most recent call last)",
      "\u001b[0;32m<ipython-input-262-ec591cb53e57>\u001b[0m in \u001b[0;36m<module>\u001b[0;34m\u001b[0m\n\u001b[1;32m     62\u001b[0m     \u001b[0mteams\u001b[0m \u001b[0;34m=\u001b[0m \u001b[0mdetermine_regional_qualifiers\u001b[0m\u001b[0;34m(\u001b[0m\u001b[0md1\u001b[0m\u001b[0;34m,\u001b[0m \u001b[0mregion\u001b[0m\u001b[0;34m,\u001b[0m \u001b[0mn_teams\u001b[0m\u001b[0;34m)\u001b[0m\u001b[0;34m\u001b[0m\u001b[0;34m\u001b[0m\u001b[0m\n\u001b[1;32m     63\u001b[0m     \u001b[0mpool_results\u001b[0m \u001b[0;34m=\u001b[0m \u001b[0mplay_pools\u001b[0m\u001b[0;34m(\u001b[0m\u001b[0mteams\u001b[0m\u001b[0;34m,\u001b[0m \u001b[0mpool_seeding\u001b[0m\u001b[0;34m[\u001b[0m\u001b[0mn_teams\u001b[0m\u001b[0;34m]\u001b[0m\u001b[0;34m)\u001b[0m\u001b[0;34m\u001b[0m\u001b[0;34m\u001b[0m\u001b[0m\n\u001b[0;32m---> 64\u001b[0;31m     \u001b[0mbracket\u001b[0m \u001b[0;34m=\u001b[0m \u001b[0mplay_bracket\u001b[0m\u001b[0;34m(\u001b[0m\u001b[0mn_bids\u001b[0m\u001b[0;34m,\u001b[0m \u001b[0;34m**\u001b[0m\u001b[0mpool_results\u001b[0m\u001b[0;34m)\u001b[0m\u001b[0;34m\u001b[0m\u001b[0;34m\u001b[0m\u001b[0m\n\u001b[0m\u001b[1;32m     65\u001b[0m     \u001b[0mprint\u001b[0m\u001b[0;34m(\u001b[0m\u001b[0;34m\"QUALIFIERS:\"\u001b[0m\u001b[0;34m,\u001b[0m \u001b[0mbracket\u001b[0m\u001b[0;34m.\u001b[0m\u001b[0mdetermine_placement\u001b[0m\u001b[0;34m(\u001b[0m\u001b[0;34m)\u001b[0m\u001b[0;34m[\u001b[0m\u001b[0;34m:\u001b[0m\u001b[0mn_bids\u001b[0m\u001b[0;34m]\u001b[0m\u001b[0;34m,\u001b[0m \u001b[0;34m'\\n'\u001b[0m\u001b[0;34m)\u001b[0m\u001b[0;34m\u001b[0m\u001b[0;34m\u001b[0m\u001b[0m\n",
      "\u001b[0;32m<ipython-input-262-ec591cb53e57>\u001b[0m in \u001b[0;36mplay_bracket\u001b[0;34m(n_bids, **pools)\u001b[0m\n\u001b[1;32m     53\u001b[0m     \u001b[0;32melse\u001b[0m\u001b[0;34m:\u001b[0m\u001b[0;34m\u001b[0m\u001b[0;34m\u001b[0m\u001b[0m\n\u001b[1;32m     54\u001b[0m         \u001b[0;32mreturn\u001b[0m\u001b[0;34m\u001b[0m\u001b[0;34m\u001b[0m\u001b[0m\n\u001b[0;32m---> 55\u001b[0;31m     \u001b[0mt\u001b[0m\u001b[0;34m.\u001b[0m\u001b[0mplay_games\u001b[0m\u001b[0;34m(\u001b[0m\u001b[0;34m)\u001b[0m\u001b[0;34m\u001b[0m\u001b[0;34m\u001b[0m\u001b[0m\n\u001b[0m\u001b[1;32m     56\u001b[0m     \u001b[0;32mreturn\u001b[0m \u001b[0mt\u001b[0m\u001b[0;34m\u001b[0m\u001b[0;34m\u001b[0m\u001b[0m\n\u001b[1;32m     57\u001b[0m \u001b[0;34m\u001b[0m\u001b[0m\n",
      "\u001b[0;31mUnboundLocalError\u001b[0m: local variable 't' referenced before assignment"
     ]
    }
   ],
   "source": [
    "four_pools_of_three_seeds = {\n",
    "    \"pool_a\": [1, 8, 9],\n",
    "    \"pool_b\": [2, 7, 10],\n",
    "    \"pool_c\": [3, 6, 11],\n",
    "    \"pool_d\": [4, 5, 12],\n",
    "}\n",
    "\n",
    "# Table 16.1.2\n",
    "four_pools_of_four_seeds = {\n",
    "    \"pool_a\": [1, 8, 12, 16],\n",
    "    \"pool_b\": [2, 7, 11, 15],\n",
    "    \"pool_c\": [3, 6, 10, 14],\n",
    "    \"pool_d\": [4, 5, 9, 13],\n",
    "}\n",
    "\n",
    "pool_seeding = {12: four_pools_of_three_seeds, 16: four_pools_of_four_seeds}\n",
    "\n",
    "\n",
    "def play_pools(teams, pool_seeds):\n",
    "    results = {}\n",
    "    for name, seeds in pool_seeds.items():\n",
    "        pool = tournament.RoundRobinTournament(\n",
    "            teams_list=teams.iloc[[i - 1 for i in seeds]].tolist()\n",
    "        )\n",
    "        pool.play_games()\n",
    "        results[name] = pool.determine_placement()\n",
    "    return results\n",
    "\n",
    "\n",
    "def determine_regional_qualifiers(division_teams, region, n_teams):\n",
    "    return (\n",
    "        division_teams[division_teams.college_region == region]\n",
    "        .head(n_teams)\n",
    "        .apply(\n",
    "            lambda r: Team(\n",
    "                name=r.team, rating=int(r.power_rating), region=r.college_region\n",
    "            ),\n",
    "            axis=1,\n",
    "        )\n",
    "    )\n",
    "\n",
    "\n",
    "def play_bracket(n_bids, **pools):\n",
    "    n_teams = teams.count()\n",
    "    if n_teams == 12:\n",
    "        if n_bids in [1, 2, 3]:\n",
    "            t = tournament.BracketTwelveFourPools(**pools)\n",
    "    elif n_teams == 16:\n",
    "        if n_bids == 1:\n",
    "            t = tournament.BracketSixteenOne(**pools)\n",
    "        if n_bids == 2:\n",
    "            t = tournament.BracketSixteenTwoTwo(**pools)\n",
    "    else:\n",
    "        return\n",
    "    t.play_games()\n",
    "    return t\n",
    "\n",
    "\n",
    "for region, (n_teams, n_bids) in region_details.iterrows():\n",
    "    if n_teams == 11: n_teams = 12\n",
    "    print(f'\\n\\nPLAYING {region}')\n",
    "    teams = determine_regional_qualifiers(d1, region, n_teams)\n",
    "    pool_results = play_pools(teams, pool_seeding[n_teams])\n",
    "    bracket = play_bracket(n_bids, **pool_results)\n",
    "    print(\"QUALIFIERS:\", bracket.determine_placement()[:n_bids], '\\n')"
   ]
  },
  {
   "cell_type": "code",
   "execution_count": null,
   "metadata": {},
   "outputs": [],
   "source": []
  },
  {
   "cell_type": "code",
   "execution_count": null,
   "metadata": {},
   "outputs": [],
   "source": []
  },
  {
   "cell_type": "code",
   "execution_count": null,
   "metadata": {},
   "outputs": [],
   "source": []
  },
  {
   "cell_type": "code",
   "execution_count": 190,
   "metadata": {},
   "outputs": [],
   "source": [
    "tables = pd.read_html('./Rankings/2019CollegeMensDivisionBidAllocation.htm', header=0)"
   ]
  },
  {
   "cell_type": "code",
   "execution_count": 259,
   "metadata": {},
   "outputs": [],
   "source": [
    "total_bids = 20\n",
    "# store boolean for whether autobid has been reached while iterating through rankings\n",
    "_bids = {region: [1, False] for region in d1.college_region.unique()}\n",
    "for i, team in d1.iterrows():\n",
    "    if sum(v[0] for k, v in _bids.items()) < total_bids:\n",
    "        if _bids[team.college_region][1]:\n",
    "            _bids[team.college_region][0] += 1\n",
    "        else:\n",
    "            _bids[team.college_region][1] = True\n",
    "\n",
    "# now just a dict of region name: number of bids\n",
    "bids = {k: v[0] for k, v in _bids.items()}\n",
    "\n",
    "conference_lookup = (\n",
    "    df_men.drop_duplicates(subset=[\"college_conference\", \"college_region\"])\n",
    "    .set_index(\"college_conference\")\n",
    "    .college_region.to_dict()\n",
    ")\n",
    "\n",
    "combined = (\n",
    "    pd.concat(\n",
    "        [\n",
    "            table\n",
    "            for table in tables\n",
    "            if table.columns.isin(\n",
    "                [\"Conference\", \"Division\", \"Auto bids\", \"Strength bids\", \"Total\"]\n",
    "            ).min()\n",
    "            and (table.Division == \"D-I\").max()\n",
    "        ]\n",
    "    )\n",
    "    .reset_index(drop=True)\n",
    "    .assign(region=lambda x: x[\"Conference\"].map(conference_lookup))\n",
    ")\n",
    "region_details = (\n",
    "    combined.groupby(\"region\")\n",
    "    .Total.sum()\n",
    "    .rename(\"size\")\n",
    "    .to_frame()\n",
    "    .assign(bids=lambda x: x.index.map(bids))\n",
    ")\n",
    "\n",
    "region_details.loc[\"North Central\", \"size\"] = 12\n",
    "region_details.loc[\"Northwest\", \"size\"] = 12"
   ]
  },
  {
   "cell_type": "code",
   "execution_count": 260,
   "metadata": {},
   "outputs": [
    {
     "data": {
      "text/html": [
       "<div>\n",
       "<style scoped>\n",
       "    .dataframe tbody tr th:only-of-type {\n",
       "        vertical-align: middle;\n",
       "    }\n",
       "\n",
       "    .dataframe tbody tr th {\n",
       "        vertical-align: top;\n",
       "    }\n",
       "\n",
       "    .dataframe thead th {\n",
       "        text-align: right;\n",
       "    }\n",
       "</style>\n",
       "<table border=\"1\" class=\"dataframe\">\n",
       "  <thead>\n",
       "    <tr style=\"text-align: right;\">\n",
       "      <th></th>\n",
       "      <th>size</th>\n",
       "      <th>bids</th>\n",
       "    </tr>\n",
       "    <tr>\n",
       "      <th>region</th>\n",
       "      <th></th>\n",
       "      <th></th>\n",
       "    </tr>\n",
       "  </thead>\n",
       "  <tbody>\n",
       "    <tr>\n",
       "      <th>Atlantic Coast</th>\n",
       "      <td>16</td>\n",
       "      <td>1</td>\n",
       "    </tr>\n",
       "    <tr>\n",
       "      <th>Great Lakes</th>\n",
       "      <td>12</td>\n",
       "      <td>1</td>\n",
       "    </tr>\n",
       "    <tr>\n",
       "      <th>Metro East</th>\n",
       "      <td>12</td>\n",
       "      <td>1</td>\n",
       "    </tr>\n",
       "    <tr>\n",
       "      <th>New England</th>\n",
       "      <td>12</td>\n",
       "      <td>3</td>\n",
       "    </tr>\n",
       "    <tr>\n",
       "      <th>North Central</th>\n",
       "      <td>12</td>\n",
       "      <td>2</td>\n",
       "    </tr>\n",
       "    <tr>\n",
       "      <th>Northwest</th>\n",
       "      <td>12</td>\n",
       "      <td>4</td>\n",
       "    </tr>\n",
       "    <tr>\n",
       "      <th>Ohio Valley</th>\n",
       "      <td>16</td>\n",
       "      <td>2</td>\n",
       "    </tr>\n",
       "    <tr>\n",
       "      <th>South Central</th>\n",
       "      <td>16</td>\n",
       "      <td>2</td>\n",
       "    </tr>\n",
       "    <tr>\n",
       "      <th>Southeast</th>\n",
       "      <td>16</td>\n",
       "      <td>1</td>\n",
       "    </tr>\n",
       "    <tr>\n",
       "      <th>Southwest</th>\n",
       "      <td>16</td>\n",
       "      <td>3</td>\n",
       "    </tr>\n",
       "  </tbody>\n",
       "</table>\n",
       "</div>"
      ],
      "text/plain": [
       "                size  bids\n",
       "region                    \n",
       "Atlantic Coast    16     1\n",
       "Great Lakes       12     1\n",
       "Metro East        12     1\n",
       "New England       12     3\n",
       "North Central     12     2\n",
       "Northwest         12     4\n",
       "Ohio Valley       16     2\n",
       "South Central     16     2\n",
       "Southeast         16     1\n",
       "Southwest         16     3"
      ]
     },
     "execution_count": 260,
     "metadata": {},
     "output_type": "execute_result"
    }
   ],
   "source": [
    "region_details"
   ]
  },
  {
   "cell_type": "code",
   "execution_count": null,
   "metadata": {},
   "outputs": [],
   "source": [
    "\n",
    "            "
   ]
  },
  {
   "cell_type": "code",
   "execution_count": null,
   "metadata": {},
   "outputs": [],
   "source": []
  }
 ],
 "metadata": {
  "kernelspec": {
   "display_name": "Python 3",
   "language": "python",
   "name": "python3"
  },
  "language_info": {
   "codemirror_mode": {
    "name": "ipython",
    "version": 3
   },
   "file_extension": ".py",
   "mimetype": "text/x-python",
   "name": "python",
   "nbconvert_exporter": "python",
   "pygments_lexer": "ipython3",
   "version": "3.7.6"
  }
 },
 "nbformat": 4,
 "nbformat_minor": 4
}
