{
 "cells": [
  {
   "cell_type": "code",
   "execution_count": 1,
   "metadata": {},
   "outputs": [],
   "source": [
    "%load_ext autoreload\n",
    "%autoreload 2"
   ]
  },
  {
   "cell_type": "code",
   "execution_count": 2,
   "metadata": {},
   "outputs": [
    {
     "name": "stdout",
     "output_type": "stream",
     "text": [
      "/Users/alextrahey/Code/college-nationals\n"
     ]
    }
   ],
   "source": [
    "cd .."
   ]
  },
  {
   "cell_type": "code",
   "execution_count": 15,
   "metadata": {},
   "outputs": [],
   "source": [
    "import ultimate\n",
    "from ultimate import Team, Game, Tournament, utils"
   ]
  },
  {
   "cell_type": "code",
   "execution_count": 10,
   "metadata": {},
   "outputs": [
    {
     "name": "stdout",
     "output_type": "stream",
     "text": [
      "UCLA Smaug 2200 []\n",
      "UCSB Black Tide 2100 []\n",
      "UCSD Air Squids 2000 []\n",
      "Cal UGMO 1900 []\n"
     ]
    }
   ],
   "source": [
    "\n",
    "#\n",
    "# Tests for Team class\n",
    "#\n",
    "ucla = Team(name=\"UCLA\", rating=2200, nickname=\"Smaug\")\n",
    "ucsb = Team(name=\"UCSB\", rating=2100, nickname=\"Black Tide\")\n",
    "ucsd = Team(name=\"UCSD\", rating=2000, nickname=\"Air Squids\")\n",
    "cal = Team(name=\"Cal\", rating=1900, nickname=\"UGMO\")\n",
    "print(ucla.name, ucla.nickname, ucla.rating, ucla.games_list)\n",
    "print(ucsb.name, ucsb.nickname, ucsb.rating, ucsb.games_list)\n",
    "print(ucsd.name, ucsd.nickname, ucsd.rating, ucsd.games_list)\n",
    "print(cal.name, cal.nickname, cal.rating, cal.games_list)\n",
    "\n"
   ]
  },
  {
   "cell_type": "code",
   "execution_count": 22,
   "metadata": {},
   "outputs": [
    {
     "name": "stdout",
     "output_type": "stream",
     "text": [
      "\n",
      "Game 0 (method='random')\n",
      "UCLA 13-15 UCSB\n",
      "Score *should* be only 15-13 or 13-15.\n",
      "\n",
      "Game 1\n",
      "UCLA 15-14 UCSB\n"
     ]
    }
   ],
   "source": [
    "\n",
    "# Game 0\n",
    "print(\"\\nGame 0 (method='random')\")\n",
    "ucla_vs_ucsb = Game(ucla, ucsb)\n",
    "ucla_vs_ucsb.play_game(method=\"random\")\n",
    "print(\"Score *should* be only 15-13 or 13-15.\")\n",
    "\n",
    "mens_p_a_offense, mens_k, mens_rating_diff_to_victory_margin, game_to = utils.get_default_parameters(\n",
    "    \"men\"\n",
    ")\n",
    "\n",
    "# Game 1\n",
    "print(\"\\nGame 1\")\n",
    "ucla_vs_ucsb = Game(ucla, ucsb)\n",
    "ucla_vs_ucsb.play_game(\n",
    "    method=\"double negative binomial\",\n",
    "    rating_diff_to_victory_margin=mens_rating_diff_to_victory_margin,\n",
    "    p_a_offense=mens_p_a_offense,\n",
    ")"
   ]
  },
  {
   "cell_type": "code",
   "execution_count": 39,
   "metadata": {},
   "outputs": [
    {
     "name": "stdout",
     "output_type": "stream",
     "text": [
      "\n",
      "Tournament 0\n",
      "semi: UCLA 15-13 UCSB\n",
      "semi: Cal 15-13 UCSD\n",
      "final: UCLA 15-8 Cal\n"
     ]
    }
   ],
   "source": [
    "\n",
    "# Tournament 0\n",
    "print(\"\\nTournament 0\")\n",
    "semi1 = Game(ucla, ucsb, level=\"semi\")\n",
    "semi2 = Game(cal, ucsd, level=\"semi\")\n",
    "finals = Game(None, None, semi1, semi2, level=\"final\")\n",
    "\n",
    "finals.play_game(\n",
    "    method=\"double negative binomial\",\n",
    "    rating_diff_to_victory_margin=mens_rating_diff_to_victory_margin,\n",
    "    p_a_offense=mens_p_a_offense,\n",
    ")\n"
   ]
  },
  {
   "cell_type": "code",
   "execution_count": 40,
   "metadata": {},
   "outputs": [
    {
     "name": "stdout",
     "output_type": "stream",
     "text": [
      "UCLA 1-0 Cal\n",
      "UCLA 2-0 Cal\n",
      "UCLA 3-0 Cal\n",
      "UCLA 3-1 Cal\n",
      "UCLA 4-1 Cal\n",
      "UCLA 4-2 Cal\n",
      "UCLA 5-2 Cal\n",
      "UCLA 5-3 Cal\n",
      "UCLA 6-3 Cal\n",
      "UCLA 7-3 Cal\n",
      "UCLA 7-4 Cal\n",
      "UCLA 8-4 Cal\n",
      "UCLA 9-4 Cal\n",
      "UCLA 9-5 Cal\n",
      "UCLA 10-5 Cal\n",
      "UCLA 11-5 Cal\n",
      "UCLA 11-6 Cal\n",
      "UCLA 12-6 Cal\n",
      "UCLA 13-6 Cal\n",
      "UCLA 14-6 Cal\n",
      "UCLA 14-7 Cal\n",
      "UCLA 14-8 Cal\n",
      "UCLA 15-8 Cal\n"
     ]
    }
   ],
   "source": [
    "finals.display_point_log()"
   ]
  },
  {
   "cell_type": "code",
   "execution_count": 43,
   "metadata": {},
   "outputs": [
    {
     "name": "stdout",
     "output_type": "stream",
     "text": [
      "\n",
      "Eight team bracket\n",
      "quarter: UCLA 15-7 CalPolySLO\n",
      "quarter: UCSB 15-6 Whitman\n",
      "quarter: UCSD 15-14 Oregon\n",
      "quarter: Cal 15-14 UW\n",
      "semi: UCLA 15-11 Cal\n",
      "semi: UCSB 8-15 UCSD\n",
      "final: UCLA 15-10 UCSD\n",
      "UCLA\n"
     ]
    }
   ],
   "source": [
    "\n",
    "# Tests for playing 8 team bracket\n",
    "print(\"\\nEight team bracket\")\n",
    "ucla = Team(name=\"UCLA\", rating=2200, nickname=\"Smaug\", games_list=[])\n",
    "ucsb = Team(name=\"UCSB\", rating=2100, nickname=\"Black Tide\")\n",
    "ucsd = Team(name=\"UCSD\", rating=2000, nickname=\"Air Squids\")\n",
    "cal = Team(name=\"Cal\", rating=1900, nickname=\"UGMO\")\n",
    "uw = Team(name=\"UW\", rating=1800, nickname=\"Sundodgers\")\n",
    "ore = Team(name=\"Oregon\", rating=1700, nickname=\"Ego\")\n",
    "whit = Team(name=\"Whitman\", rating=1600, nickname=\"Sweets\")\n",
    "slo = Team(name=\"CalPolySLO\", rating=1500, nickname=\"Slocore\")\n",
    "\n",
    "teams_list = [ucla, ucsb, ucsd, cal, uw, ore, whit, slo]\n",
    "\n",
    "placement = ultimate.tournament.play_eight_team_single_elimination_bracket(\n",
    "    teams_list,\n",
    "    method=\"double negative binomial\",\n",
    "    rating_diff_to_victory_margin=mens_rating_diff_to_victory_margin,\n",
    "    p_a_offense=mens_p_a_offense,\n",
    ")\n",
    "\n",
    "print(placement[0][1].name)"
   ]
  },
  {
   "cell_type": "code",
   "execution_count": null,
   "metadata": {},
   "outputs": [],
   "source": []
  }
 ],
 "metadata": {
  "kernelspec": {
   "display_name": "Python 3",
   "language": "python",
   "name": "python3"
  },
  "language_info": {
   "codemirror_mode": {
    "name": "ipython",
    "version": 3
   },
   "file_extension": ".py",
   "mimetype": "text/x-python",
   "name": "python",
   "nbconvert_exporter": "python",
   "pygments_lexer": "ipython3",
   "version": "3.7.6"
  }
 },
 "nbformat": 4,
 "nbformat_minor": 4
}
