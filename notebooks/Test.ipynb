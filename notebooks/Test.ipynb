{
 "cells": [
  {
   "cell_type": "code",
   "execution_count": 1,
   "metadata": {},
   "outputs": [
    {
     "data": {
      "application/javascript": [
       "\n",
       "            setTimeout(function() {\n",
       "                var nbb_cell_id = 1;\n",
       "                var nbb_formatted_code = \"%load_ext autoreload\\n%autoreload 2\\n%load_ext nb_black\\nimport pandas as pd\";\n",
       "                var nbb_cells = Jupyter.notebook.get_cells();\n",
       "                for (var i = 0; i < nbb_cells.length; ++i) {\n",
       "                    if (nbb_cells[i].input_prompt_number == nbb_cell_id) {\n",
       "                        nbb_cells[i].set_text(nbb_formatted_code);\n",
       "                        break;\n",
       "                    }\n",
       "                }\n",
       "            }, 500);\n",
       "            "
      ],
      "text/plain": [
       "<IPython.core.display.Javascript object>"
      ]
     },
     "metadata": {},
     "output_type": "display_data"
    }
   ],
   "source": [
    "%load_ext autoreload\n",
    "%autoreload 2\n",
    "%load_ext nb_black\n",
    "import pandas as pd"
   ]
  },
  {
   "cell_type": "code",
   "execution_count": 2,
   "metadata": {},
   "outputs": [
    {
     "name": "stderr",
     "output_type": "stream",
     "text": [
      "ERROR:root:Cannot parse: 1:4: cd ..\n",
      "Traceback (most recent call last):\n",
      "  File \"/usr/local/lib/python3.7/site-packages/lab_black.py\", line 210, in format_cell\n",
      "    formatted_code = _format_code(cell)\n",
      "  File \"/usr/local/lib/python3.7/site-packages/lab_black.py\", line 29, in _format_code\n",
      "    return format_str(src_contents=code, mode=FileMode())\n",
      "  File \"/usr/local/lib/python3.7/site-packages/black.py\", line 725, in format_str\n",
      "    src_node = lib2to3_parse(src_contents.lstrip(), mode.target_versions)\n",
      "  File \"/usr/local/lib/python3.7/site-packages/black.py\", line 836, in lib2to3_parse\n",
      "    raise exc from None\n",
      "black.InvalidInput: Cannot parse: 1:4: cd ..\n"
     ]
    },
    {
     "name": "stdout",
     "output_type": "stream",
     "text": [
      "/Users/alextrahey/Code/college-nationals\n"
     ]
    }
   ],
   "source": [
    "cd .."
   ]
  },
  {
   "cell_type": "code",
   "execution_count": 3,
   "metadata": {},
   "outputs": [
    {
     "data": {
      "application/javascript": [
       "\n",
       "            setTimeout(function() {\n",
       "                var nbb_cell_id = 3;\n",
       "                var nbb_formatted_code = \"import ultimate\\nfrom ultimate import Team, Game, Tournament, utils\";\n",
       "                var nbb_cells = Jupyter.notebook.get_cells();\n",
       "                for (var i = 0; i < nbb_cells.length; ++i) {\n",
       "                    if (nbb_cells[i].input_prompt_number == nbb_cell_id) {\n",
       "                        nbb_cells[i].set_text(nbb_formatted_code);\n",
       "                        break;\n",
       "                    }\n",
       "                }\n",
       "            }, 500);\n",
       "            "
      ],
      "text/plain": [
       "<IPython.core.display.Javascript object>"
      ]
     },
     "metadata": {},
     "output_type": "display_data"
    }
   ],
   "source": [
    "import ultimate\n",
    "from ultimate import Team, Game, Tournament, utils"
   ]
  },
  {
   "cell_type": "code",
   "execution_count": 4,
   "metadata": {},
   "outputs": [
    {
     "name": "stdout",
     "output_type": "stream",
     "text": [
      "UCLA Smaug 2200 []\n",
      "UCSB Black Tide 2100 []\n",
      "UCSD Air Squids 2000 []\n",
      "Cal UGMO 1900 []\n"
     ]
    },
    {
     "data": {
      "application/javascript": [
       "\n",
       "            setTimeout(function() {\n",
       "                var nbb_cell_id = 4;\n",
       "                var nbb_formatted_code = \"#\\n# Tests for Team class\\n#\\nucla = Team(name=\\\"UCLA\\\", rating=2200, nickname=\\\"Smaug\\\")\\nucsb = Team(name=\\\"UCSB\\\", rating=2100, nickname=\\\"Black Tide\\\")\\nucsd = Team(name=\\\"UCSD\\\", rating=2000, nickname=\\\"Air Squids\\\")\\ncal = Team(name=\\\"Cal\\\", rating=1900, nickname=\\\"UGMO\\\")\\nprint(ucla.name, ucla.nickname, ucla.rating, ucla.games_list)\\nprint(ucsb.name, ucsb.nickname, ucsb.rating, ucsb.games_list)\\nprint(ucsd.name, ucsd.nickname, ucsd.rating, ucsd.games_list)\\nprint(cal.name, cal.nickname, cal.rating, cal.games_list)\";\n",
       "                var nbb_cells = Jupyter.notebook.get_cells();\n",
       "                for (var i = 0; i < nbb_cells.length; ++i) {\n",
       "                    if (nbb_cells[i].input_prompt_number == nbb_cell_id) {\n",
       "                        nbb_cells[i].set_text(nbb_formatted_code);\n",
       "                        break;\n",
       "                    }\n",
       "                }\n",
       "            }, 500);\n",
       "            "
      ],
      "text/plain": [
       "<IPython.core.display.Javascript object>"
      ]
     },
     "metadata": {},
     "output_type": "display_data"
    }
   ],
   "source": [
    "#\n",
    "# Tests for Team class\n",
    "#\n",
    "ucla = Team(name=\"UCLA\", rating=2200, nickname=\"Smaug\")\n",
    "ucsb = Team(name=\"UCSB\", rating=2100, nickname=\"Black Tide\")\n",
    "ucsd = Team(name=\"UCSD\", rating=2000, nickname=\"Air Squids\")\n",
    "cal = Team(name=\"Cal\", rating=1900, nickname=\"UGMO\")\n",
    "print(ucla.name, ucla.nickname, ucla.rating, ucla.games_list)\n",
    "print(ucsb.name, ucsb.nickname, ucsb.rating, ucsb.games_list)\n",
    "print(ucsd.name, ucsd.nickname, ucsd.rating, ucsd.games_list)\n",
    "print(cal.name, cal.nickname, cal.rating, cal.games_list)"
   ]
  },
  {
   "cell_type": "code",
   "execution_count": 5,
   "metadata": {},
   "outputs": [
    {
     "name": "stdout",
     "output_type": "stream",
     "text": [
      "\n",
      "Game 0 (method='random')\n",
      "UCLA 15-13 UCSB\n",
      "Score *should* be only 15-13 or 13-15.\n",
      "\n",
      "Game 1\n",
      "UCLA 15-12 UCSB\n"
     ]
    },
    {
     "data": {
      "application/javascript": [
       "\n",
       "            setTimeout(function() {\n",
       "                var nbb_cell_id = 5;\n",
       "                var nbb_formatted_code = \"# Game 0\\nprint(\\\"\\\\nGame 0 (method='random')\\\")\\nucla_vs_ucsb = Game(ucla, ucsb)\\nucla_vs_ucsb.play_game(method=\\\"random\\\")\\nprint(\\\"Score *should* be only 15-13 or 13-15.\\\")\\n\\n(\\n    mens_p_a_offense,\\n    mens_k,\\n    mens_rating_diff_to_victory_margin,\\n    game_to,\\n) = utils.get_default_parameters(\\\"men\\\")\\n\\n# Game 1\\nprint(\\\"\\\\nGame 1\\\")\\nucla_vs_ucsb = Game(ucla, ucsb)\\nucla_vs_ucsb.play_game(\\n    method=\\\"double negative binomial\\\",\\n    rating_diff_to_victory_margin=mens_rating_diff_to_victory_margin,\\n    p_a_offense=mens_p_a_offense,\\n)\";\n",
       "                var nbb_cells = Jupyter.notebook.get_cells();\n",
       "                for (var i = 0; i < nbb_cells.length; ++i) {\n",
       "                    if (nbb_cells[i].input_prompt_number == nbb_cell_id) {\n",
       "                        nbb_cells[i].set_text(nbb_formatted_code);\n",
       "                        break;\n",
       "                    }\n",
       "                }\n",
       "            }, 500);\n",
       "            "
      ],
      "text/plain": [
       "<IPython.core.display.Javascript object>"
      ]
     },
     "metadata": {},
     "output_type": "display_data"
    }
   ],
   "source": [
    "# Game 0\n",
    "print(\"\\nGame 0 (method='random')\")\n",
    "ucla_vs_ucsb = Game(ucla, ucsb)\n",
    "ucla_vs_ucsb.play_game(method=\"random\")\n",
    "print(\"Score *should* be only 15-13 or 13-15.\")\n",
    "\n",
    "(\n",
    "    mens_p_a_offense,\n",
    "    mens_k,\n",
    "    mens_rating_diff_to_victory_margin,\n",
    "    game_to,\n",
    ") = utils.get_default_parameters(\"men\")\n",
    "\n",
    "# Game 1\n",
    "print(\"\\nGame 1\")\n",
    "ucla_vs_ucsb = Game(ucla, ucsb)\n",
    "ucla_vs_ucsb.play_game(\n",
    "    method=\"double negative binomial\",\n",
    "    rating_diff_to_victory_margin=mens_rating_diff_to_victory_margin,\n",
    "    p_a_offense=mens_p_a_offense,\n",
    ")"
   ]
  },
  {
   "cell_type": "code",
   "execution_count": 7,
   "metadata": {},
   "outputs": [
    {
     "name": "stdout",
     "output_type": "stream",
     "text": [
      "\n",
      "Tournament 0\n",
      "semi: UCLA 15-14 UCSB\n",
      "semi: Cal 13-15 UCSD\n",
      "final: UCLA 14-15 UCSD\n"
     ]
    },
    {
     "data": {
      "application/javascript": [
       "\n",
       "            setTimeout(function() {\n",
       "                var nbb_cell_id = 7;\n",
       "                var nbb_formatted_code = \"# Tournament 0\\nprint(\\\"\\\\nTournament 0\\\")\\nsemi1 = Game(ucla, ucsb, level=\\\"semi\\\")\\nsemi2 = Game(cal, ucsd, level=\\\"semi\\\")\\nfinals = Game(None, None, semi1, semi2, level=\\\"final\\\")\\n\\nfinals.play_game(\\n    method=\\\"double negative binomial\\\",\\n    rating_diff_to_victory_margin=mens_rating_diff_to_victory_margin,\\n    p_a_offense=mens_p_a_offense,\\n)\";\n",
       "                var nbb_cells = Jupyter.notebook.get_cells();\n",
       "                for (var i = 0; i < nbb_cells.length; ++i) {\n",
       "                    if (nbb_cells[i].input_prompt_number == nbb_cell_id) {\n",
       "                        nbb_cells[i].set_text(nbb_formatted_code);\n",
       "                        break;\n",
       "                    }\n",
       "                }\n",
       "            }, 500);\n",
       "            "
      ],
      "text/plain": [
       "<IPython.core.display.Javascript object>"
      ]
     },
     "metadata": {},
     "output_type": "display_data"
    }
   ],
   "source": [
    "# Tournament 0\n",
    "print(\"\\nTournament 0\")\n",
    "semi1 = Game(ucla, ucsb, level=\"semi\")\n",
    "semi2 = Game(cal, ucsd, level=\"semi\")\n",
    "finals = Game(None, None, semi1, semi2, level=\"final\")\n",
    "\n",
    "finals.play_game(\n",
    "    method=\"double negative binomial\",\n",
    "    rating_diff_to_victory_margin=mens_rating_diff_to_victory_margin,\n",
    "    p_a_offense=mens_p_a_offense,\n",
    ")"
   ]
  },
  {
   "cell_type": "code",
   "execution_count": 8,
   "metadata": {},
   "outputs": [
    {
     "name": "stdout",
     "output_type": "stream",
     "text": [
      "UCLA 1-0 UCSD\n",
      "UCLA 2-0 UCSD\n",
      "UCLA 3-0 UCSD\n",
      "UCLA 3-1 UCSD\n",
      "UCLA 3-2 UCSD\n",
      "UCLA 3-3 UCSD\n",
      "UCLA 3-4 UCSD\n",
      "UCLA 4-4 UCSD\n",
      "UCLA 4-5 UCSD\n",
      "UCLA 5-5 UCSD\n",
      "UCLA 5-6 UCSD\n",
      "UCLA 6-6 UCSD\n",
      "UCLA 7-6 UCSD\n",
      "UCLA 7-7 UCSD\n",
      "UCLA 7-8 UCSD\n",
      "UCLA 8-8 UCSD\n",
      "UCLA 8-9 UCSD\n",
      "UCLA 9-9 UCSD\n",
      "UCLA 9-10 UCSD\n",
      "UCLA 10-10 UCSD\n",
      "UCLA 10-11 UCSD\n",
      "UCLA 11-11 UCSD\n",
      "UCLA 11-12 UCSD\n",
      "UCLA 12-12 UCSD\n",
      "UCLA 12-13 UCSD\n",
      "UCLA 13-13 UCSD\n",
      "UCLA 13-14 UCSD\n",
      "UCLA 14-14 UCSD\n",
      "UCLA 14-15 UCSD\n"
     ]
    },
    {
     "data": {
      "application/javascript": [
       "\n",
       "            setTimeout(function() {\n",
       "                var nbb_cell_id = 8;\n",
       "                var nbb_formatted_code = \"finals.display_point_log()\";\n",
       "                var nbb_cells = Jupyter.notebook.get_cells();\n",
       "                for (var i = 0; i < nbb_cells.length; ++i) {\n",
       "                    if (nbb_cells[i].input_prompt_number == nbb_cell_id) {\n",
       "                        nbb_cells[i].set_text(nbb_formatted_code);\n",
       "                        break;\n",
       "                    }\n",
       "                }\n",
       "            }, 500);\n",
       "            "
      ],
      "text/plain": [
       "<IPython.core.display.Javascript object>"
      ]
     },
     "metadata": {},
     "output_type": "display_data"
    }
   ],
   "source": [
    "finals.display_point_log()"
   ]
  },
  {
   "cell_type": "code",
   "execution_count": 9,
   "metadata": {},
   "outputs": [
    {
     "name": "stdout",
     "output_type": "stream",
     "text": [
      "\n",
      "Eight team bracket\n"
     ]
    },
    {
     "ename": "TypeError",
     "evalue": "Can't instantiate abstract class Tournament with abstract methods determine_placement",
     "output_type": "error",
     "traceback": [
      "\u001b[0;31m---------------------------------------------------------------------------\u001b[0m",
      "\u001b[0;31mTypeError\u001b[0m                                 Traceback (most recent call last)",
      "\u001b[0;32m<ipython-input-9-9a0d05f1dead>\u001b[0m in \u001b[0;36m<module>\u001b[0;34m\u001b[0m\n\u001b[1;32m     17\u001b[0m     \u001b[0mmethod\u001b[0m\u001b[0;34m=\u001b[0m\u001b[0;34m\"double negative binomial\"\u001b[0m\u001b[0;34m,\u001b[0m\u001b[0;34m\u001b[0m\u001b[0;34m\u001b[0m\u001b[0m\n\u001b[1;32m     18\u001b[0m     \u001b[0mrating_diff_to_victory_margin\u001b[0m\u001b[0;34m=\u001b[0m\u001b[0mmens_rating_diff_to_victory_margin\u001b[0m\u001b[0;34m,\u001b[0m\u001b[0;34m\u001b[0m\u001b[0;34m\u001b[0m\u001b[0m\n\u001b[0;32m---> 19\u001b[0;31m     \u001b[0mp_a_offense\u001b[0m\u001b[0;34m=\u001b[0m\u001b[0mmens_p_a_offense\u001b[0m\u001b[0;34m,\u001b[0m\u001b[0;34m\u001b[0m\u001b[0;34m\u001b[0m\u001b[0m\n\u001b[0m\u001b[1;32m     20\u001b[0m )\n\u001b[1;32m     21\u001b[0m \u001b[0;34m\u001b[0m\u001b[0m\n",
      "\u001b[0;32m~/Code/college-nationals/ultimate/tournament.py\u001b[0m in \u001b[0;36mplay_eight_team_single_elimination_bracket\u001b[0;34m(teams_list, num_bids, method, rating_diff_to_victory_margin, p_a_offense)\u001b[0m\n\u001b[1;32m    654\u001b[0m     \u001b[0mf\u001b[0m \u001b[0;34m=\u001b[0m \u001b[0mGame\u001b[0m\u001b[0;34m(\u001b[0m\u001b[0mchild_a\u001b[0m\u001b[0;34m=\u001b[0m\u001b[0ms1\u001b[0m\u001b[0;34m,\u001b[0m \u001b[0mchild_b\u001b[0m\u001b[0;34m=\u001b[0m\u001b[0ms2\u001b[0m\u001b[0;34m,\u001b[0m \u001b[0mlevel\u001b[0m\u001b[0;34m=\u001b[0m\u001b[0;34m\"final\"\u001b[0m\u001b[0;34m)\u001b[0m\u001b[0;34m\u001b[0m\u001b[0;34m\u001b[0m\u001b[0m\n\u001b[1;32m    655\u001b[0m \u001b[0;34m\u001b[0m\u001b[0m\n\u001b[0;32m--> 656\u001b[0;31m     \u001b[0mtourney\u001b[0m \u001b[0;34m=\u001b[0m \u001b[0mTournament\u001b[0m\u001b[0;34m(\u001b[0m\u001b[0mgames_list\u001b[0m\u001b[0;34m=\u001b[0m\u001b[0;34m[\u001b[0m\u001b[0mq1\u001b[0m\u001b[0;34m,\u001b[0m \u001b[0mq2\u001b[0m\u001b[0;34m,\u001b[0m \u001b[0mq3\u001b[0m\u001b[0;34m,\u001b[0m \u001b[0mq4\u001b[0m\u001b[0;34m,\u001b[0m \u001b[0ms1\u001b[0m\u001b[0;34m,\u001b[0m \u001b[0ms2\u001b[0m\u001b[0;34m,\u001b[0m \u001b[0mf\u001b[0m\u001b[0;34m]\u001b[0m\u001b[0;34m)\u001b[0m\u001b[0;34m\u001b[0m\u001b[0;34m\u001b[0m\u001b[0m\n\u001b[0m\u001b[1;32m    657\u001b[0m \u001b[0;34m\u001b[0m\u001b[0m\n\u001b[1;32m    658\u001b[0m     tourney.play_games(\n",
      "\u001b[0;31mTypeError\u001b[0m: Can't instantiate abstract class Tournament with abstract methods determine_placement"
     ]
    },
    {
     "data": {
      "application/javascript": [
       "\n",
       "            setTimeout(function() {\n",
       "                var nbb_cell_id = 9;\n",
       "                var nbb_formatted_code = \"# Tests for playing 8 team bracket\\nprint(\\\"\\\\nEight team bracket\\\")\\nucla = Team(name=\\\"UCLA\\\", rating=2200, nickname=\\\"Smaug\\\", games_list=[])\\nucsb = Team(name=\\\"UCSB\\\", rating=2100, nickname=\\\"Black Tide\\\")\\nucsd = Team(name=\\\"UCSD\\\", rating=2000, nickname=\\\"Air Squids\\\")\\ncal = Team(name=\\\"Cal\\\", rating=1900, nickname=\\\"UGMO\\\")\\nuw = Team(name=\\\"UW\\\", rating=1800, nickname=\\\"Sundodgers\\\")\\nore = Team(name=\\\"Oregon\\\", rating=1700, nickname=\\\"Ego\\\")\\nwhit = Team(name=\\\"Whitman\\\", rating=1600, nickname=\\\"Sweets\\\")\\nslo = Team(name=\\\"CalPolySLO\\\", rating=1500, nickname=\\\"Slocore\\\")\\n\\nteams_list = [ucla, ucsb, ucsd, cal, uw, ore, whit, slo]\\n\\nplacement = ultimate.tournament.play_eight_team_single_elimination_bracket(\\n    teams_list,\\n    method=\\\"double negative binomial\\\",\\n    rating_diff_to_victory_margin=mens_rating_diff_to_victory_margin,\\n    p_a_offense=mens_p_a_offense,\\n)\\n\\nprint(placement[0][1].name)\";\n",
       "                var nbb_cells = Jupyter.notebook.get_cells();\n",
       "                for (var i = 0; i < nbb_cells.length; ++i) {\n",
       "                    if (nbb_cells[i].input_prompt_number == nbb_cell_id) {\n",
       "                        nbb_cells[i].set_text(nbb_formatted_code);\n",
       "                        break;\n",
       "                    }\n",
       "                }\n",
       "            }, 500);\n",
       "            "
      ],
      "text/plain": [
       "<IPython.core.display.Javascript object>"
      ]
     },
     "metadata": {},
     "output_type": "display_data"
    }
   ],
   "source": [
    "# Tests for playing 8 team bracket\n",
    "print(\"\\nEight team bracket\")\n",
    "ucla = Team(name=\"UCLA\", rating=2200, nickname=\"Smaug\", games_list=[])\n",
    "ucsb = Team(name=\"UCSB\", rating=2100, nickname=\"Black Tide\")\n",
    "ucsd = Team(name=\"UCSD\", rating=2000, nickname=\"Air Squids\")\n",
    "cal = Team(name=\"Cal\", rating=1900, nickname=\"UGMO\")\n",
    "uw = Team(name=\"UW\", rating=1800, nickname=\"Sundodgers\")\n",
    "ore = Team(name=\"Oregon\", rating=1700, nickname=\"Ego\")\n",
    "whit = Team(name=\"Whitman\", rating=1600, nickname=\"Sweets\")\n",
    "slo = Team(name=\"CalPolySLO\", rating=1500, nickname=\"Slocore\")\n",
    "\n",
    "teams_list = [ucla, ucsb, ucsd, cal, uw, ore, whit, slo]\n",
    "\n",
    "placement = ultimate.tournament.play_eight_team_single_elimination_bracket(\n",
    "    teams_list,\n",
    "    method=\"double negative binomial\",\n",
    "    rating_diff_to_victory_margin=mens_rating_diff_to_victory_margin,\n",
    "    p_a_offense=mens_p_a_offense,\n",
    ")\n",
    "\n",
    "print(placement[0][1].name)"
   ]
  },
  {
   "cell_type": "code",
   "execution_count": 10,
   "metadata": {},
   "outputs": [
    {
     "data": {
      "application/javascript": [
       "\n",
       "            setTimeout(function() {\n",
       "                var nbb_cell_id = 10;\n",
       "                var nbb_formatted_code = \"from ultimate import tournament\";\n",
       "                var nbb_cells = Jupyter.notebook.get_cells();\n",
       "                for (var i = 0; i < nbb_cells.length; ++i) {\n",
       "                    if (nbb_cells[i].input_prompt_number == nbb_cell_id) {\n",
       "                        nbb_cells[i].set_text(nbb_formatted_code);\n",
       "                        break;\n",
       "                    }\n",
       "                }\n",
       "            }, 500);\n",
       "            "
      ],
      "text/plain": [
       "<IPython.core.display.Javascript object>"
      ]
     },
     "metadata": {},
     "output_type": "display_data"
    }
   ],
   "source": [
    "from ultimate import tournament"
   ]
  },
  {
   "cell_type": "code",
   "execution_count": 11,
   "metadata": {},
   "outputs": [
    {
     "data": {
      "text/plain": [
       "\n",
       "    Game between UCLA and Cal has not yet been played. \n",
       "    Expected Score is: 15 - 10.3\n",
       "            "
      ]
     },
     "execution_count": 11,
     "metadata": {},
     "output_type": "execute_result"
    },
    {
     "data": {
      "application/javascript": [
       "\n",
       "            setTimeout(function() {\n",
       "                var nbb_cell_id = 11;\n",
       "                var nbb_formatted_code = \"four_teams = [ucla, ucsb, ucsd, cal]\\nb = tournament.BracketFourTwoOne(teams_list=four_teams)\\nb.games_list[0]\\n# b.play_games()\\n# b.determine_placement()\";\n",
       "                var nbb_cells = Jupyter.notebook.get_cells();\n",
       "                for (var i = 0; i < nbb_cells.length; ++i) {\n",
       "                    if (nbb_cells[i].input_prompt_number == nbb_cell_id) {\n",
       "                        nbb_cells[i].set_text(nbb_formatted_code);\n",
       "                        break;\n",
       "                    }\n",
       "                }\n",
       "            }, 500);\n",
       "            "
      ],
      "text/plain": [
       "<IPython.core.display.Javascript object>"
      ]
     },
     "metadata": {},
     "output_type": "display_data"
    }
   ],
   "source": [
    "four_teams = [ucla, ucsb, ucsd, cal]\n",
    "b = tournament.BracketFourTwoOne(teams_list=four_teams)\n",
    "b.games_list[0]\n",
    "# b.play_games()\n",
    "# b.determine_placement()"
   ]
  },
  {
   "cell_type": "code",
   "execution_count": 24,
   "metadata": {},
   "outputs": [
    {
     "name": "stdout",
     "output_type": "stream",
     "text": [
      "UCSB 14-15 UCSD (Expected 15 - 13.4)\n",
      "UCLA 15-14 UCSD (Expected 15 - 11.8)\n",
      "Cal 15-11 Oregon (Expected 15 - 11.8)\n",
      "UCSB 15-9 Cal (Expected 15 - 11.8)\n",
      "Southwest Regionals Tournament Results\n",
      "1. UCLA\n",
      "2. UCSD\n",
      "3. UCSB\n",
      "4. Cal\n",
      "5. Oregon\n"
     ]
    },
    {
     "data": {
      "application/javascript": [
       "\n",
       "            setTimeout(function() {\n",
       "                var nbb_cell_id = 24;\n",
       "                var nbb_formatted_code = \"five_teams = [ucla, ucsb, ucsd, cal, ore]\\nb = tournament.BracketFiveOne(teams_list=five_teams, name=\\\"Southwest Regionals\\\")\\nb.games_list\\nb.play_games()\\n#\\nb.show_results()\";\n",
       "                var nbb_cells = Jupyter.notebook.get_cells();\n",
       "                for (var i = 0; i < nbb_cells.length; ++i) {\n",
       "                    if (nbb_cells[i].input_prompt_number == nbb_cell_id) {\n",
       "                        nbb_cells[i].set_text(nbb_formatted_code);\n",
       "                        break;\n",
       "                    }\n",
       "                }\n",
       "            }, 500);\n",
       "            "
      ],
      "text/plain": [
       "<IPython.core.display.Javascript object>"
      ]
     },
     "metadata": {},
     "output_type": "display_data"
    }
   ],
   "source": [
    "five_teams = [ucla, ucsb, ucsd, cal, ore]\n",
    "b = tournament.BracketFiveOne(teams_list=five_teams, name=\"Southwest Regionals\")\n",
    "b.games_list\n",
    "b.play_games()\n",
    "#\n",
    "b.show_results()"
   ]
  },
  {
   "cell_type": "code",
   "execution_count": 26,
   "metadata": {},
   "outputs": [
    {
     "name": "stdout",
     "output_type": "stream",
     "text": [
      "UCLA 15-8 Oregon (Expected 15 - 7.7)\n",
      "UCSB 15-8 UW (Expected 15 - 10.3)\n",
      "UCLA 15-10 UCSB (Expected 15 - 13.4)\n",
      "UCSD 15-12 CalPolySLO (Expected 15 - 7.7)\n",
      "Cal 15-13 Whitman (Expected 15 - 10.3)\n",
      "Oregon 4-15 UCSD (Expected 10.3 - 15)\n",
      "Cal 15-7 UW (Expected 15 - 13.4)\n",
      "UCSD 15-14 Cal (Expected 15 - 13.4)\n",
      "UCSB 12-15 UCSD (Expected 15 - 13.4)\n",
      "CalPolySLO 13-15 Whitman (Expected 13.4 - 15)\n",
      "Oregon 13-15 UW (Expected 13.4 - 15)\n",
      "BracketEightTwoOne - Final Results\n",
      "1. UCLA\n",
      "2. UCSD\n",
      "3. UCSB\n",
      "4. Cal\n",
      "5. UW\n",
      "6. Oregon\n",
      "7. Whitman\n",
      "8. CalPolySLO\n"
     ]
    },
    {
     "data": {
      "application/javascript": [
       "\n",
       "            setTimeout(function() {\n",
       "                var nbb_cell_id = 26;\n",
       "                var nbb_formatted_code = \"b = tournament.BracketEightTwoOne(teams_list[:4], teams_list[4:])\\nb.play_games()\\nb.show_results()\";\n",
       "                var nbb_cells = Jupyter.notebook.get_cells();\n",
       "                for (var i = 0; i < nbb_cells.length; ++i) {\n",
       "                    if (nbb_cells[i].input_prompt_number == nbb_cell_id) {\n",
       "                        nbb_cells[i].set_text(nbb_formatted_code);\n",
       "                        break;\n",
       "                    }\n",
       "                }\n",
       "            }, 500);\n",
       "            "
      ],
      "text/plain": [
       "<IPython.core.display.Javascript object>"
      ]
     },
     "metadata": {},
     "output_type": "display_data"
    }
   ],
   "source": [
    "b = tournament.BracketEightTwoOne(teams_list[:4], teams_list[4:])\n",
    "b.play_games()\n",
    "b.show_results()"
   ]
  },
  {
   "cell_type": "code",
   "execution_count": 86,
   "metadata": {},
   "outputs": [
    {
     "data": {
      "text/plain": [
       "<ultimate.tournament.RoundRobinTournament at 0x110def310>"
      ]
     },
     "execution_count": 86,
     "metadata": {},
     "output_type": "execute_result"
    }
   ],
   "source": [
    "b."
   ]
  },
  {
   "cell_type": "code",
   "execution_count": 58,
   "metadata": {},
   "outputs": [
    {
     "data": {
      "application/javascript": [
       "\n",
       "            setTimeout(function() {\n",
       "                var nbb_cell_id = 58;\n",
       "                var nbb_formatted_code = \"womens_ranking_html = r\\\"Rankings/USAU_team_rankings.women.2020-03-11.html\\\"\\nmens_ranking_html = r\\\"Rankings/USAU_team_rankings.men.2020-03-11.html\\\"\\n\\n# Use pandas html reader to extract dataframe\\nresult = pd.read_html(womens_ranking_html)\\ndf_women = result[0].rename(columns=lambda x: x.replace(\\\" \\\", \\\"_\\\").lower()).iloc[0:-1]\\n\\nresult = pd.read_html(mens_ranking_html)\\ndf_men = result[0].rename(columns=lambda x: x.replace(\\\" \\\", \\\"_\\\").lower()).iloc[0:-1]\\n\\ncustom_ranks_men = pd.read_excel(\\n    \\\"./Rankings/USAU ratings and human tuning.xlsx\\\", sheet_name=\\\"Men\\\"\\n).dropna(subset=[\\\"USAU Rank\\\"])\\ncustom_ranks_women = pd.read_excel(\\n    \\\"./Rankings/USAU ratings and human tuning.xlsx\\\", sheet_name=\\\"Women\\\"\\n).dropna(subset=[\\\"USAU Rank\\\"])\";\n",
       "                var nbb_cells = Jupyter.notebook.get_cells();\n",
       "                for (var i = 0; i < nbb_cells.length; ++i) {\n",
       "                    if (nbb_cells[i].input_prompt_number == nbb_cell_id) {\n",
       "                        nbb_cells[i].set_text(nbb_formatted_code);\n",
       "                        break;\n",
       "                    }\n",
       "                }\n",
       "            }, 500);\n",
       "            "
      ],
      "text/plain": [
       "<IPython.core.display.Javascript object>"
      ]
     },
     "metadata": {},
     "output_type": "display_data"
    }
   ],
   "source": [
    "womens_ranking_html = r\"Rankings/USAU_team_rankings.women.2020-03-11.html\"\n",
    "mens_ranking_html = r\"Rankings/USAU_team_rankings.men.2020-03-11.html\"\n",
    "\n",
    "# Use pandas html reader to extract dataframe\n",
    "result = pd.read_html(womens_ranking_html)\n",
    "df_women = result[0].rename(columns=lambda x: x.replace(\" \", \"_\").lower()).iloc[0:-1]\n",
    "\n",
    "result = pd.read_html(mens_ranking_html)\n",
    "df_men = result[0].rename(columns=lambda x: x.replace(\" \", \"_\").lower()).iloc[0:-1]\n",
    "\n",
    "custom_ranks_men = pd.read_excel(\n",
    "    \"./Rankings/USAU ratings and human tuning.xlsx\", sheet_name=\"Men\"\n",
    ").dropna(subset=[\"USAU Rank\"])\n",
    "custom_ranks_women = pd.read_excel(\n",
    "    \"./Rankings/USAU ratings and human tuning.xlsx\", sheet_name=\"Women\"\n",
    ").dropna(subset=[\"USAU Rank\"])"
   ]
  },
  {
   "cell_type": "code",
   "execution_count": 61,
   "metadata": {},
   "outputs": [
    {
     "data": {
      "application/javascript": [
       "\n",
       "            setTimeout(function() {\n",
       "                var nbb_cell_id = 61;\n",
       "                var nbb_formatted_code = \"d1 = (\\n    df_men[df_men.competition_division == \\\"Division I\\\"]\\n    .merge(\\n        custom_ranks[[\\\"Team\\\", \\\"Adjusted Rating\\\"]],\\n        left_on=\\\"team\\\",\\n        right_on=\\\"Team\\\",\\n        how=\\\"inner\\\",\\n    )\\n    .assign(custom_rating=lambda x: x[\\\"Adjusted Rating\\\"].combine_first(x.power_rating))\\n)\\nregions = d1.college_region.unique()\";\n",
       "                var nbb_cells = Jupyter.notebook.get_cells();\n",
       "                for (var i = 0; i < nbb_cells.length; ++i) {\n",
       "                    if (nbb_cells[i].input_prompt_number == nbb_cell_id) {\n",
       "                        nbb_cells[i].set_text(nbb_formatted_code);\n",
       "                        break;\n",
       "                    }\n",
       "                }\n",
       "            }, 500);\n",
       "            "
      ],
      "text/plain": [
       "<IPython.core.display.Javascript object>"
      ]
     },
     "metadata": {},
     "output_type": "display_data"
    }
   ],
   "source": [
    "d1 = (\n",
    "    df_men[df_men.competition_division == \"Division I\"]\n",
    "    .merge(\n",
    "        custom_ranks[[\"Team\", \"Adjusted Rating\"]],\n",
    "        left_on=\"team\",\n",
    "        right_on=\"Team\",\n",
    "        how=\"inner\",\n",
    "    )\n",
    "    .assign(custom_rating=lambda x: x[\"Adjusted Rating\"].combine_first(x.power_rating))\n",
    ")\n",
    "regions = d1.college_region.unique()"
   ]
  },
  {
   "cell_type": "code",
   "execution_count": 29,
   "metadata": {},
   "outputs": [
    {
     "name": "stdout",
     "output_type": "stream",
     "text": [
      "[South Carolina (), North Carolina State (), Virginia Tech (), North Carolina ()]\n",
      "pool: North Carolina 15-6 North Carolina State\n",
      "pool: North Carolina 15-7 South Carolina\n",
      "pool: North Carolina 15-5 Virginia Tech\n",
      "pool: North Carolina State 12-15 South Carolina\n",
      "pool: North Carolina State 15-11 Virginia Tech\n",
      "pool: South Carolina 14-15 Virginia Tech\n",
      "[Virginia (), North Carolina-Wilmington (), James Madison (), William & Mary ()]\n",
      "pool: North Carolina-Wilmington 11-15 William & Mary\n",
      "pool: North Carolina-Wilmington 15-12 James Madison\n",
      "pool: North Carolina-Wilmington 15-9 Virginia\n",
      "pool: William & Mary 15-7 James Madison\n",
      "pool: William & Mary 15-6 Virginia\n",
      "pool: James Madison 15-11 Virginia\n",
      "North Carolina 15-2 Virginia (Expected 15 - 4.0)\n",
      "North Carolina-Wilmington 14-15 North Carolina State (Expected 15 - 14.9)\n",
      "South Carolina 15-14 James Madison (Expected 15 - 13.6)\n",
      "William & Mary 15-12 Virginia Tech (Expected 15 - 10.0)\n",
      "North Carolina 15-4 North Carolina State (Expected 15 - 7.5)\n",
      "South Carolina 15-11 William & Mary (Expected 14.3 - 15)\n",
      "North Carolina 15-5 South Carolina (Expected 15 - 6.7)\n",
      "Virginia 8-15 North Carolina-Wilmington (Expected 9.3 - 15)\n",
      "James Madison 15-11 Virginia Tech (Expected 15 - 12.0)\n",
      "North Carolina-Wilmington 15-11 James Madison (Expected 15 - 12.3)\n",
      "North Carolina State 13-15 William & Mary (Expected 15 - 14.5)\n",
      "Virginia 14-15 Virginia Tech (Expected 14.8 - 15)\n"
     ]
    },
    {
     "data": {
      "text/plain": [
       "[North Carolina (),\n",
       " South Carolina (),\n",
       " William & Mary (),\n",
       " North Carolina State (),\n",
       " North Carolina-Wilmington (),\n",
       " James Madison (),\n",
       " Virginia Tech (),\n",
       " Virginia ()]"
      ]
     },
     "execution_count": 29,
     "metadata": {},
     "output_type": "execute_result"
    },
    {
     "data": {
      "application/javascript": [
       "\n",
       "            setTimeout(function() {\n",
       "                var nbb_cell_id = 29;\n",
       "                var nbb_formatted_code = \"def regional_tournament(region, n_teams=8, n_bids=1):\\n    teams = (\\n        d1[d1.college_region == region]\\n        .head(n_teams)\\n        .apply(\\n            lambda r: Team(\\n                name=r.team, rating=int(r.power_rating), region=r.college_region\\n            ),\\n            axis=1,\\n        )\\n    )\\n    pool_a = tournament.RoundRobinTournament(\\n        teams_list=teams.iloc[[0, 2, 4, 6]].tolist()\\n    )\\n    pool_b = tournament.RoundRobinTournament(\\n        teams_list=teams.iloc[[1, 3, 5, 7]].tolist()\\n    )\\n    print(pool_a.teams_list)\\n    pool_a.play_games()\\n    print(pool_b.teams_list)\\n    pool_b.play_games()\\n    bracket = tournament.BracketEightOne(\\n        pool_a.determine_placement(), pool_b.determine_placement()\\n    )\\n    bracket.play_games()\\n    return bracket.determine_placement()\\n\\n\\nregional_tournament(\\\"Atlantic Coast\\\")\\n\\n\\n#      def __init__(\\n#         self, name=\\\"\\\", rating=\\\"\\\", nickname=\\\"\\\", games_list=None, section=\\\"\\\", region=\\\"\\\"\\n#     ):\";\n",
       "                var nbb_cells = Jupyter.notebook.get_cells();\n",
       "                for (var i = 0; i < nbb_cells.length; ++i) {\n",
       "                    if (nbb_cells[i].input_prompt_number == nbb_cell_id) {\n",
       "                        nbb_cells[i].set_text(nbb_formatted_code);\n",
       "                        break;\n",
       "                    }\n",
       "                }\n",
       "            }, 500);\n",
       "            "
      ],
      "text/plain": [
       "<IPython.core.display.Javascript object>"
      ]
     },
     "metadata": {},
     "output_type": "display_data"
    }
   ],
   "source": [
    "def regional_tournament(region, n_teams=8, n_bids=1):\n",
    "    teams = (\n",
    "        d1[d1.college_region == region]\n",
    "        .head(n_teams)\n",
    "        .apply(\n",
    "            lambda r: Team(\n",
    "                name=r.team, rating=int(r.power_rating), region=r.college_region\n",
    "            ),\n",
    "            axis=1,\n",
    "        )\n",
    "    )\n",
    "    pool_a = tournament.RoundRobinTournament(\n",
    "        teams_list=teams.iloc[[0, 2, 4, 6]].tolist()\n",
    "    )\n",
    "    pool_b = tournament.RoundRobinTournament(\n",
    "        teams_list=teams.iloc[[1, 3, 5, 7]].tolist()\n",
    "    )\n",
    "    print(pool_a.teams_list)\n",
    "    pool_a.play_games()\n",
    "    print(pool_b.teams_list)\n",
    "    pool_b.play_games()\n",
    "    bracket = tournament.BracketEightOne(\n",
    "        pool_a.determine_placement(), pool_b.determine_placement()\n",
    "    )\n",
    "    bracket.play_games()\n",
    "    return bracket.determine_placement()\n",
    "\n",
    "\n",
    "regional_tournament(\"Atlantic Coast\")\n",
    "\n",
    "\n",
    "#      def __init__(\n",
    "#         self, name=\"\", rating=\"\", nickname=\"\", games_list=None, section=\"\", region=\"\"\n",
    "#     ):"
   ]
  },
  {
   "cell_type": "code",
   "execution_count": 110,
   "metadata": {},
   "outputs": [],
   "source": [
    "# b.play_games()\n",
    "region = 'Atlantic Coast'\n",
    "teams = d1[d1.college_region == region].head(n_teams).apply(lambda r: Team(name=r.team, rating=int(r.power_rating), region=r.college_region), axis=1).tolist()"
   ]
  },
  {
   "cell_type": "code",
   "execution_count": 56,
   "metadata": {},
   "outputs": [
    {
     "data": {
      "text/plain": [
       "1              Washington ()\n",
       "3           Brigham Young ()\n",
       "5                  Oregon ()\n",
       "11       British Columbia ()\n",
       "18           Oregon State ()\n",
       "27     Western Washington ()\n",
       "41                   Utah ()\n",
       "43             Utah State ()\n",
       "57                Whitman ()\n",
       "62               Victoria ()\n",
       "71          Montana State ()\n",
       "101               Gonzaga ()\n",
       "dtype: object"
      ]
     },
     "execution_count": 56,
     "metadata": {},
     "output_type": "execute_result"
    },
    {
     "data": {
      "application/javascript": [
       "\n",
       "            setTimeout(function() {\n",
       "                var nbb_cell_id = 56;\n",
       "                var nbb_formatted_code = \"# bids\\nteams\";\n",
       "                var nbb_cells = Jupyter.notebook.get_cells();\n",
       "                for (var i = 0; i < nbb_cells.length; ++i) {\n",
       "                    if (nbb_cells[i].input_prompt_number == nbb_cell_id) {\n",
       "                        nbb_cells[i].set_text(nbb_formatted_code);\n",
       "                        break;\n",
       "                    }\n",
       "                }\n",
       "            }, 500);\n",
       "            "
      ],
      "text/plain": [
       "<IPython.core.display.Javascript object>"
      ]
     },
     "metadata": {},
     "output_type": "display_data"
    }
   ],
   "source": [
    "# bids\n"
   ]
  },
  {
   "cell_type": "code",
   "execution_count": 62,
   "metadata": {
    "scrolled": false
   },
   "outputs": [
    {
     "name": "stdout",
     "output_type": "stream",
     "text": [
      "\n",
      "\n",
      "PLAYING Men's Atlantic Coast - 16 Teams with 1 Bids\n",
      "pool: North Carolina 15-2 Virginia (Expected 15 - 4.0)\n",
      "pool: North Carolina 15-5 Duke (Expected 15 - 2.8)\n",
      "pool: North Carolina 15-1 Clemson (Expected 15 - 2.1)\n",
      "pool: Virginia 15-14 Duke (Expected 15 - 12.0)\n",
      "pool: Virginia 15-9 Clemson (Expected 15 - 9.9)\n",
      "pool: Duke 15-12 Clemson (Expected 15 - 12.8)\n",
      "pool: North Carolina-Wilmington 15-9 Virginia Tech (Expected 15 - 8.8)\n",
      "pool: North Carolina-Wilmington 15-7 North Carolina-Charlotte (Expected 15 - 7.0)\n",
      "pool: North Carolina-Wilmington 15-3 Virginia Commonwealth University (Expected 15 - 5.1)\n",
      "pool: Virginia Tech 15-12 North Carolina-Charlotte (Expected 15 - 12.6)\n",
      "pool: Virginia Tech 15-7 Virginia Commonwealth University (Expected 15 - 9.9)\n",
      "pool: North Carolina-Charlotte 15-9 Virginia Commonwealth University (Expected 15 - 12.1)\n",
      "pool: North Carolina State 15-6 James Madison (Expected 15 - 10.4)\n",
      "pool: North Carolina State 15-5 Liberty (Expected 15 - 6.2)\n",
      "pool: North Carolina State 15-1 Appalachian State (Expected 15 - 4.5)\n",
      "pool: James Madison 15-7 Liberty (Expected 15 - 9.9)\n",
      "pool: James Madison 15-8 Appalachian State (Expected 15 - 7.6)\n",
      "pool: Liberty 12-15 Appalachian State (Expected 15 - 12.2)\n",
      "pool: William & Mary 15-12 South Carolina (Expected 15 - 14.3)\n",
      "pool: William & Mary 15-9 Georgetown (Expected 15 - 9.1)\n",
      "pool: William & Mary 15-13 Maryland (Expected 15 - 6.3)\n",
      "pool: South Carolina 15-9 Georgetown (Expected 15 - 9.7)\n",
      "pool: South Carolina 15-3 Maryland (Expected 15 - 6.8)\n",
      "pool: Georgetown 14-15 Maryland (Expected 15 - 11.4)\n",
      "prequarters: Virginia Tech 15-11 Appalachian State (Expected 15 - 10.1)\n",
      "prequarters: James Madison 15-8 North Carolina-Charlotte (Expected 15 - 9.8)\n",
      "prequarters: Duke 11-15 South Carolina (Expected 7.9 - 15)\n",
      "prequarters: Maryland 14-15 Virginia (Expected 10.6 - 15)\n",
      "quarters: North Carolina 15-9 Virginia Tech (Expected 15 - 4.1)\n",
      "quarters: William & Mary 15-9 James Madison (Expected 15 - 12.9)\n",
      "quarters: North Carolina State 15-14 South Carolina (Expected 15 - 11.7)\n",
      "quarters: North Carolina-Wilmington 15-9 Virginia (Expected 15 - 8.6)\n",
      "semis: North Carolina 15-7 William & Mary (Expected 15 - 7.2)\n",
      "semis: North Carolina State 15-12 North Carolina-Wilmington (Expected 15 - 13.8)\n",
      "final: North Carolina 15-7 North Carolina State (Expected 15 - 9.3)\n",
      "last 4: Clemson 15-13 Virginia Commonwealth University (Expected 14.8 - 15)\n",
      "last 4: Liberty 15-11 Georgetown (Expected 13.8 - 15)\n",
      "QUALIFIERS: [North Carolina ()] \n",
      "\n",
      "\n",
      "\n",
      "PLAYING Men's Great Lakes - 12 Teams with 1 Bids\n",
      "pool: Michigan 15-3 Chicago (Expected 15 - 5.2)\n",
      "pool: Michigan 15-4 Ball State (Expected 15 - 4.0)\n",
      "pool: Chicago 10-15 Ball State (Expected 15 - 12.7)\n",
      "pool: Northwestern 15-11 Indiana (Expected 15 - 9.0)\n",
      "pool: Northwestern 15-4 Michigan State (Expected 15 - 5.9)\n",
      "pool: Indiana 15-8 Michigan State (Expected 15 - 10.9)\n",
      "pool: Notre Dame 12-15 Kentucky (Expected 15 - 11.8)\n",
      "pool: Notre Dame 15-1 Illinois State (Expected 15 - 6.4)\n",
      "pool: Kentucky 15-7 Illinois State (Expected 15 - 8.8)\n",
      "pool: Purdue 14-15 Illinois (Expected 15 - 14.3)\n",
      "pool: Purdue 15-0 Kentucky B (Expected 15 - 1.2)\n",
      "pool: Illinois 15-0 Kentucky B (Expected 15 - 1.3)\n",
      "Indiana 15-10 Illinois State (Expected 15 - 10.2)\n",
      "Notre Dame 15-10 Michigan State (Expected 15 - 6.9)\n",
      "Purdue 15-8 Chicago (Expected 15 - 10.2)\n",
      "Kentucky B 7-15 Ball State (Expected 3.0 - 15)\n",
      "quarter: Michigan 15-5 Indiana (Expected 15 - 6.0)\n",
      "quarter: Illinois 13-15 Notre Dame (Expected 13.1 - 15)\n",
      "quarter: Kentucky 8-15 Purdue (Expected 13.0 - 15)\n",
      "quarter: Northwestern 15-8 Ball State (Expected 15 - 6.3)\n",
      "semi: Michigan 15-10 Notre Dame (Expected 15 - 9.7)\n",
      "semi: Purdue 13-15 Northwestern (Expected 12.3 - 15)\n",
      "final: Michigan 15-8 Northwestern (Expected 15 - 11.1)\n",
      "3rd place: Notre Dame 15-13 Purdue (Expected 15 - 13.8)\n",
      "5th place semis: Indiana 15-12 Kentucky (Expected 13.4 - 15)\n",
      "5th place semis: Illinois 15-7 Ball State (Expected 15 - 8.8)\n",
      "5th place: Indiana 14-15 Illinois (Expected 12.1 - 15)\n",
      "Kentucky 15-8 Ball State (Expected 15 - 10.0)\n",
      "9th place semis: Illinois State 12-15 Michigan State (Expected 14.2 - 15)\n",
      "9th place semis: Chicago 15-0 Kentucky B (Expected 15 - 2.3)\n",
      "9th place: Michigan State 9-15 Chicago (Expected 12.2 - 15)\n",
      "11th place: Illinois State 15-3 Kentucky B (Expected 15 - 3.5)\n",
      "QUALIFIERS: [Michigan ()] \n",
      "\n",
      "\n",
      "\n",
      "PLAYING Men's Metro East - 12 Teams with 1 Bids\n",
      "pool: Cornell 15-12 Yale (Expected 15 - 9.0)\n",
      "pool: Cornell 15-6 SUNY-Stony Brook (Expected 15 - 8.4)\n",
      "pool: Yale 14-15 SUNY-Stony Brook (Expected 15 - 14.2)\n",
      "pool: Connecticut 14-15 SUNY-Albany (Expected 15 - 10.0)\n",
      "pool: Connecticut 15-2 RIT (Expected 15 - 7.5)\n",
      "pool: SUNY-Albany 15-8 RIT (Expected 15 - 12.0)\n",
      "pool: Princeton 15-10 Syracuse (Expected 15 - 11.2)\n",
      "pool: Princeton 15-3 NYU (Expected 15 - 6.0)\n",
      "pool: Syracuse 15-3 NYU (Expected 15 - 8.9)\n",
      "pool: SUNY-Binghamton 11-15 SUNY-Buffalo (Expected 15 - 12.7)\n",
      "pool: SUNY-Binghamton 14-15 Rowan (Expected 15 - 6.8)\n",
      "pool: SUNY-Buffalo 15-7 Rowan (Expected 15 - 8.5)\n",
      "Connecticut 15-11 NYU (Expected 15 - 5.5)\n",
      "Syracuse 15-11 RIT (Expected 15 - 11.5)\n",
      "Rowan 8-15 Yale (Expected 9.3 - 15)\n",
      "SUNY-Binghamton 15-6 SUNY-Stony Brook (Expected 15 - 11.0)\n",
      "quarter: Cornell 15-11 Connecticut (Expected 15 - 14.0)\n",
      "quarter: SUNY-Buffalo 15-14 Syracuse (Expected 15 - 14.7)\n",
      "quarter: Princeton 15-7 Yale (Expected 15 - 10.6)\n",
      "quarter: SUNY-Albany 10-15 SUNY-Binghamton (Expected 11.9 - 15)\n",
      "semi: Cornell 15-12 SUNY-Buffalo (Expected 15 - 9.9)\n",
      "semi: Princeton 13-15 SUNY-Binghamton (Expected 15 - 13.7)\n",
      "final: Cornell 15-11 SUNY-Binghamton (Expected 15 - 12.0)\n",
      "3rd place: SUNY-Buffalo 12-15 Princeton (Expected 11.4 - 15)\n",
      "5th place semis: Connecticut 15-11 Yale (Expected 15 - 9.9)\n",
      "5th place semis: Syracuse 12-15 SUNY-Albany (Expected 15 - 14.5)\n",
      "5th place: Connecticut 15-8 SUNY-Albany (Expected 15 - 10.0)\n",
      "Yale 14-15 Syracuse (Expected 14.3 - 15)\n",
      "9th place semis: NYU 12-15 RIT (Expected 12.1 - 15)\n",
      "9th place semis: Rowan 7-15 SUNY-Stony Brook (Expected 10.0 - 15)\n",
      "9th place: RIT 15-13 SUNY-Stony Brook (Expected 12.9 - 15)\n",
      "11th place: NYU 15-14 Rowan (Expected 15 - 14.9)\n",
      "QUALIFIERS: [Cornell ()] \n",
      "\n",
      "\n",
      "\n",
      "PLAYING Men's New England - 12 Teams with 3 Bids\n",
      "pool: Massachusetts 15-4 Boston College (Expected 15 - 4.7)\n",
      "pool: Massachusetts 15-0 Harvard (Expected 15 - 2.8)\n",
      "pool: Boston College 15-7 Harvard (Expected 15 - 10.6)\n",
      "pool: Brown 15-7 Boston University (Expected 15 - 4.6)\n",
      "pool: Brown 15-1 Maine (Expected 15 - 1.4)\n",
      "pool: Boston University 15-4 Maine (Expected 15 - 6.4)\n",
      "pool: Tufts 15-9 Northeastern (Expected 15 - 13.2)\n",
      "pool: Tufts 15-4 Rhode Island (Expected 15 - 2.3)\n",
      "pool: Northeastern 15-1 Rhode Island (Expected 15 - 2.9)\n",
      "pool: Vermont 15-12 Dartmouth (Expected 15 - 13.4)\n",
      "pool: Vermont 15-1 New Hampshire (Expected 15 - 2.4)\n",
      "pool: Dartmouth 15-1 New Hampshire (Expected 15 - 3.0)\n",
      "Boston University 15-6 Rhode Island (Expected 15 - 6.1)\n",
      "Northeastern 15-5 Maine (Expected 15 - 3.1)\n",
      "Dartmouth 15-7 Harvard (Expected 15 - 6.0)\n",
      "New Hampshire 4-15 Boston College (Expected 5.8 - 15)\n",
      "quarter: Massachusetts 15-2 Boston University (Expected 15 - 4.8)\n",
      "quarter: Vermont 14-15 Northeastern (Expected 15 - 14.2)\n",
      "quarter: Tufts 15-12 Dartmouth (Expected 15 - 12.5)\n",
      "quarter: Brown 15-4 Boston College (Expected 15 - 4.5)\n",
      "semi: Massachusetts 15-10 Northeastern (Expected 15 - 9.4)\n",
      "semi: Tufts 10-15 Brown (Expected 10.6 - 15)\n",
      "final: Massachusetts 15-14 Brown (Expected 14.6 - 15)\n",
      "3rd place: Northeastern 11-15 Tufts (Expected 13.2 - 15)\n",
      "5th place semis: Boston University 15-14 Dartmouth (Expected 9.5 - 15)\n",
      "5th place semis: Vermont 15-4 Boston College (Expected 15 - 8.1)\n",
      "5th place: Boston University 3-15 Vermont (Expected 8.2 - 15)\n",
      "Dartmouth 15-5 Boston College (Expected 15 - 9.4)\n",
      "9th place semis: Rhode Island 15-12 Maine (Expected 14.5 - 15)\n",
      "9th place semis: Harvard 15-7 New Hampshire (Expected 15 - 9.1)\n",
      "9th place: Rhode Island 6-15 Harvard (Expected 9.7 - 15)\n",
      "11th place: Maine 15-12 New Hampshire (Expected 15 - 13.9)\n",
      "QUALIFIERS: [Massachusetts (), Brown (), Tufts ()] \n",
      "\n",
      "\n",
      "\n",
      "PLAYING Men's North Central - 12 Teams with 2 Bids\n",
      "pool: Carleton College-CUT 15-0 Nebraska (Expected 15 - 2.8)\n",
      "pool: Carleton College-CUT 15-3 Iowa (Expected 15 - 2.6)\n",
      "pool: Nebraska 15-12 Iowa (Expected 15 - 14.6)\n",
      "pool: Minnesota 15-3 Wisconsin-Whitewater (Expected 15 - 3.8)\n",
      "pool: Minnesota 15-1 Wisconsin-Eau Claire (Expected 15 - 2.5)\n",
      "pool: Wisconsin-Whitewater 15-12 Wisconsin-Eau Claire (Expected 15 - 11.4)\n",
      "pool: Wisconsin 15-6 Minnesota-Duluth (Expected 15 - 7.3)\n",
      "pool: Wisconsin 15-2 Creighton (Expected 15 - 2.3)\n",
      "pool: Minnesota-Duluth 15-8 Creighton (Expected 15 - 6.2)\n",
      "pool: Wisconsin-Milwaukee 15-12 Iowa State (Expected 15 - 14.0)\n",
      "pool: Wisconsin-Milwaukee 15-7 Northern Iowa (Expected 15 - 4.1)\n",
      "pool: Iowa State 15-11 Northern Iowa (Expected 15 - 4.5)\n",
      "Wisconsin-Whitewater 15-9 Creighton (Expected 15 - 7.1)\n",
      "Minnesota-Duluth 15-10 Wisconsin-Eau Claire (Expected 15 - 10.2)\n",
      "Iowa State 15-10 Iowa (Expected 15 - 9.7)\n",
      "Northern Iowa 9-15 Nebraska (Expected 7.8 - 15)\n",
      "quarter: Carleton College-CUT 15-2 Wisconsin-Whitewater (Expected 15 - 3.2)\n",
      "quarter: Wisconsin-Milwaukee 15-9 Minnesota-Duluth (Expected 15 - 11.5)\n",
      "quarter: Wisconsin 14-15 Iowa State (Expected 15 - 9.3)\n",
      "quarter: Minnesota 15-4 Nebraska (Expected 15 - 3.3)\n",
      "semi: Carleton College-CUT 15-8 Wisconsin-Milwaukee (Expected 15 - 5.6)\n",
      "semi: Iowa State 8-15 Minnesota (Expected 5.8 - 15)\n",
      "final: Carleton College-CUT 12-15 Minnesota (Expected 15 - 13.6)\n",
      "3rd place: Wisconsin-Milwaukee 15-13 Iowa State (Expected 15 - 14.0)\n",
      "5th place semis: Wisconsin-Whitewater 8-15 Wisconsin (Expected 6.4 - 15)\n",
      "5th place semis: Minnesota-Duluth 15-12 Nebraska (Expected 15 - 12.5)\n",
      "5th place: Wisconsin 15-9 Minnesota-Duluth (Expected 15 - 7.3)\n",
      "Wisconsin-Whitewater 15-12 Nebraska (Expected 15 - 13.7)\n",
      "9th place semis: Creighton 9-15 Wisconsin-Eau Claire (Expected 10.1 - 15)\n",
      "9th place semis: Iowa 15-9 Northern Iowa (Expected 15 - 8.1)\n",
      "9th place: Wisconsin-Eau Claire 11-15 Iowa (Expected 13.0 - 15)\n",
      "11th place: Creighton 15-12 Northern Iowa (Expected 15 - 14.7)\n",
      "QUALIFIERS: [Minnesota (), Carleton College-CUT ()] \n",
      "\n",
      "\n",
      "\n",
      "PLAYING Men's Northwest - 12 Teams with 4 Bids\n",
      "pool: Washington 15-3 Utah State (Expected 15 - 5.7)\n",
      "pool: Washington 15-6 Whitman (Expected 15 - 4.4)\n",
      "pool: Utah State 15-10 Whitman (Expected 15 - 12.6)\n",
      "pool: Brigham Young 15-4 Utah (Expected 15 - 5.8)\n",
      "pool: Brigham Young 15-6 Victoria (Expected 15 - 4.7)\n",
      "pool: Utah 15-11 Victoria (Expected 15 - 13.2)\n"
     ]
    },
    {
     "name": "stdout",
     "output_type": "stream",
     "text": [
      "pool: Oregon 15-2 Western Washington (Expected 15 - 8.1)\n",
      "pool: Oregon 15-7 Montana State (Expected 15 - 4.4)\n",
      "pool: Western Washington 14-15 Montana State (Expected 15 - 9.6)\n",
      "pool: British Columbia 15-14 Oregon State (Expected 15 - 13.2)\n",
      "pool: British Columbia 15-3 Gonzaga (Expected 15 - 5.2)\n",
      "pool: Oregon State 15-8 Gonzaga (Expected 15 - 6.3)\n"
     ]
    },
    {
     "ename": "UnboundLocalError",
     "evalue": "local variable 't' referenced before assignment",
     "output_type": "error",
     "traceback": [
      "\u001b[0;31m---------------------------------------------------------------------------\u001b[0m",
      "\u001b[0;31mUnboundLocalError\u001b[0m                         Traceback (most recent call last)",
      "\u001b[0;32m<ipython-input-62-36d54f85f2f5>\u001b[0m in \u001b[0;36m<module>\u001b[0;34m\u001b[0m\n\u001b[1;32m     64\u001b[0m     \u001b[0mteams\u001b[0m \u001b[0;34m=\u001b[0m \u001b[0mdetermine_regional_qualifiers\u001b[0m\u001b[0;34m(\u001b[0m\u001b[0md1\u001b[0m\u001b[0;34m,\u001b[0m \u001b[0mregion\u001b[0m\u001b[0;34m,\u001b[0m \u001b[0mn_teams\u001b[0m\u001b[0;34m,\u001b[0m \u001b[0mrankings_var\u001b[0m\u001b[0;34m=\u001b[0m\u001b[0;34m'custom_rating'\u001b[0m\u001b[0;34m)\u001b[0m\u001b[0;34m\u001b[0m\u001b[0;34m\u001b[0m\u001b[0m\n\u001b[1;32m     65\u001b[0m     \u001b[0mpool_results\u001b[0m \u001b[0;34m=\u001b[0m \u001b[0mplay_pools\u001b[0m\u001b[0;34m(\u001b[0m\u001b[0mteams\u001b[0m\u001b[0;34m,\u001b[0m \u001b[0mpool_seeding\u001b[0m\u001b[0;34m[\u001b[0m\u001b[0mn_teams\u001b[0m\u001b[0;34m]\u001b[0m\u001b[0;34m)\u001b[0m\u001b[0;34m\u001b[0m\u001b[0;34m\u001b[0m\u001b[0m\n\u001b[0;32m---> 66\u001b[0;31m     \u001b[0mbracket\u001b[0m \u001b[0;34m=\u001b[0m \u001b[0mplay_bracket\u001b[0m\u001b[0;34m(\u001b[0m\u001b[0mn_bids\u001b[0m\u001b[0;34m,\u001b[0m \u001b[0;34m**\u001b[0m\u001b[0mpool_results\u001b[0m\u001b[0;34m)\u001b[0m\u001b[0;34m\u001b[0m\u001b[0;34m\u001b[0m\u001b[0m\n\u001b[0m\u001b[1;32m     67\u001b[0m     \u001b[0mprint\u001b[0m\u001b[0;34m(\u001b[0m\u001b[0;34m\"QUALIFIERS:\"\u001b[0m\u001b[0;34m,\u001b[0m \u001b[0mbracket\u001b[0m\u001b[0;34m.\u001b[0m\u001b[0mdetermine_placement\u001b[0m\u001b[0;34m(\u001b[0m\u001b[0;34m)\u001b[0m\u001b[0;34m[\u001b[0m\u001b[0;34m:\u001b[0m\u001b[0mn_bids\u001b[0m\u001b[0;34m]\u001b[0m\u001b[0;34m,\u001b[0m \u001b[0;34m\"\\n\"\u001b[0m\u001b[0;34m)\u001b[0m\u001b[0;34m\u001b[0m\u001b[0;34m\u001b[0m\u001b[0m\n",
      "\u001b[0;32m<ipython-input-62-36d54f85f2f5>\u001b[0m in \u001b[0;36mplay_bracket\u001b[0;34m(n_bids, **pools)\u001b[0m\n\u001b[1;32m     53\u001b[0m     \u001b[0;32melse\u001b[0m\u001b[0;34m:\u001b[0m\u001b[0;34m\u001b[0m\u001b[0;34m\u001b[0m\u001b[0m\n\u001b[1;32m     54\u001b[0m         \u001b[0;32mreturn\u001b[0m\u001b[0;34m\u001b[0m\u001b[0;34m\u001b[0m\u001b[0m\n\u001b[0;32m---> 55\u001b[0;31m     \u001b[0mt\u001b[0m\u001b[0;34m.\u001b[0m\u001b[0mplay_games\u001b[0m\u001b[0;34m(\u001b[0m\u001b[0;34m)\u001b[0m\u001b[0;34m\u001b[0m\u001b[0;34m\u001b[0m\u001b[0m\n\u001b[0m\u001b[1;32m     56\u001b[0m     \u001b[0;32mreturn\u001b[0m \u001b[0mt\u001b[0m\u001b[0;34m\u001b[0m\u001b[0;34m\u001b[0m\u001b[0m\n\u001b[1;32m     57\u001b[0m \u001b[0;34m\u001b[0m\u001b[0m\n",
      "\u001b[0;31mUnboundLocalError\u001b[0m: local variable 't' referenced before assignment"
     ]
    },
    {
     "data": {
      "application/javascript": [
       "\n",
       "            setTimeout(function() {\n",
       "                var nbb_cell_id = 62;\n",
       "                var nbb_formatted_code = \"four_pools_of_three_seeds = {\\n    \\\"pool_a\\\": [1, 8, 9],\\n    \\\"pool_b\\\": [2, 7, 10],\\n    \\\"pool_c\\\": [3, 6, 11],\\n    \\\"pool_d\\\": [4, 5, 12],\\n}\\n\\n# Table 16.1.2\\nfour_pools_of_four_seeds = {\\n    \\\"pool_a\\\": [1, 8, 12, 16],\\n    \\\"pool_b\\\": [2, 7, 11, 15],\\n    \\\"pool_c\\\": [3, 6, 10, 14],\\n    \\\"pool_d\\\": [4, 5, 9, 13],\\n}\\n\\npool_seeding = {12: four_pools_of_three_seeds, 16: four_pools_of_four_seeds}\\n\\n\\ndef play_pools(teams, pool_seeds):\\n    results = {}\\n    for name, seeds in pool_seeds.items():\\n        pool = tournament.RoundRobinTournament(\\n            teams_list=teams.iloc[[i - 1 for i in seeds]].tolist()\\n        )\\n        pool.play_games()\\n        results[name] = pool.determine_placement()\\n    return results\\n\\n\\ndef determine_regional_qualifiers(\\n    division_teams, region, n_teams, rankings_var=\\\"power_rating\\\"\\n):\\n    return (\\n        division_teams[division_teams.college_region == region]\\n        .head(n_teams)\\n        .apply(\\n            lambda r: Team(\\n                name=r.team, rating=int(r[rankings_var]), region=r.college_region\\n            ),\\n            axis=1,\\n        )\\n    )\\n\\n\\ndef play_bracket(n_bids, **pools):\\n    n_teams = teams.count()\\n    if n_teams == 12:\\n        if n_bids in [1, 2, 3]:\\n            t = tournament.BracketTwelveFourPools(**pools)\\n    elif n_teams == 16:\\n        if n_bids == 1:\\n            t = tournament.BracketSixteenOne(**pools)\\n        if n_bids == 2:\\n            t = tournament.BracketSixteenTwoTwo(**pools)\\n    else:\\n        return\\n    t.play_games()\\n    return t\\n\\n\\n# Men's Results\\nfor region, (n_teams, n_bids) in region_details.iterrows():\\n    if n_teams == 11:\\n        n_teams = 12\\n    print(f\\\"\\\\n\\\\nPLAYING Men's {region} - {n_teams} Teams with {n_bids} Bids\\\")\\n    teams = determine_regional_qualifiers(\\n        d1, region, n_teams, rankings_var=\\\"custom_rating\\\"\\n    )\\n    pool_results = play_pools(teams, pool_seeding[n_teams])\\n    bracket = play_bracket(n_bids, **pool_results)\\n    print(\\\"QUALIFIERS:\\\", bracket.determine_placement()[:n_bids], \\\"\\\\n\\\")\";\n",
       "                var nbb_cells = Jupyter.notebook.get_cells();\n",
       "                for (var i = 0; i < nbb_cells.length; ++i) {\n",
       "                    if (nbb_cells[i].input_prompt_number == nbb_cell_id) {\n",
       "                        nbb_cells[i].set_text(nbb_formatted_code);\n",
       "                        break;\n",
       "                    }\n",
       "                }\n",
       "            }, 500);\n",
       "            "
      ],
      "text/plain": [
       "<IPython.core.display.Javascript object>"
      ]
     },
     "metadata": {},
     "output_type": "display_data"
    }
   ],
   "source": [
    "four_pools_of_three_seeds = {\n",
    "    \"pool_a\": [1, 8, 9],\n",
    "    \"pool_b\": [2, 7, 10],\n",
    "    \"pool_c\": [3, 6, 11],\n",
    "    \"pool_d\": [4, 5, 12],\n",
    "}\n",
    "\n",
    "# Table 16.1.2\n",
    "four_pools_of_four_seeds = {\n",
    "    \"pool_a\": [1, 8, 12, 16],\n",
    "    \"pool_b\": [2, 7, 11, 15],\n",
    "    \"pool_c\": [3, 6, 10, 14],\n",
    "    \"pool_d\": [4, 5, 9, 13],\n",
    "}\n",
    "\n",
    "pool_seeding = {12: four_pools_of_three_seeds, 16: four_pools_of_four_seeds}\n",
    "\n",
    "\n",
    "def play_pools(teams, pool_seeds):\n",
    "    results = {}\n",
    "    for name, seeds in pool_seeds.items():\n",
    "        pool = tournament.RoundRobinTournament(\n",
    "            teams_list=teams.iloc[[i - 1 for i in seeds]].tolist()\n",
    "        )\n",
    "        pool.play_games()\n",
    "        results[name] = pool.determine_placement()\n",
    "    return results\n",
    "\n",
    "\n",
    "def determine_regional_qualifiers(\n",
    "    division_teams, region, n_teams, rankings_var=\"power_rating\"\n",
    "):\n",
    "    return (\n",
    "        division_teams[division_teams.college_region == region]\n",
    "        .head(n_teams)\n",
    "        .apply(\n",
    "            lambda r: Team(\n",
    "                name=r.team, rating=int(r[rankings_var]), region=r.college_region\n",
    "            ),\n",
    "            axis=1,\n",
    "        )\n",
    "    )\n",
    "\n",
    "\n",
    "def play_bracket(n_bids, **pools):\n",
    "    n_teams = teams.count()\n",
    "    if n_teams == 12:\n",
    "        if n_bids in [1, 2, 3]:\n",
    "            t = tournament.BracketTwelveFourPools(**pools)\n",
    "    elif n_teams == 16:\n",
    "        if n_bids == 1:\n",
    "            t = tournament.BracketSixteenOne(**pools)\n",
    "        if n_bids == 2:\n",
    "            t = tournament.BracketSixteenTwoTwo(**pools)\n",
    "    else:\n",
    "        return\n",
    "    t.play_games()\n",
    "    return t\n",
    "\n",
    "\n",
    "# Men's Results\n",
    "for region, (n_teams, n_bids) in region_details.iterrows():\n",
    "    if n_teams == 11:\n",
    "        n_teams = 12\n",
    "    print(f\"\\n\\nPLAYING Men's {region} - {n_teams} Teams with {n_bids} Bids\")\n",
    "    teams = determine_regional_qualifiers(\n",
    "        d1, region, n_teams, rankings_var=\"custom_rating\"\n",
    "    )\n",
    "    pool_results = play_pools(teams, pool_seeding[n_teams])\n",
    "    bracket = play_bracket(n_bids, **pool_results)\n",
    "    print(\"QUALIFIERS:\", bracket.determine_placement()[:n_bids], \"\\n\")"
   ]
  },
  {
   "cell_type": "code",
   "execution_count": null,
   "metadata": {},
   "outputs": [],
   "source": []
  },
  {
   "cell_type": "code",
   "execution_count": null,
   "metadata": {},
   "outputs": [],
   "source": []
  },
  {
   "cell_type": "code",
   "execution_count": null,
   "metadata": {},
   "outputs": [],
   "source": []
  },
  {
   "cell_type": "code",
   "execution_count": 55,
   "metadata": {},
   "outputs": [
    {
     "data": {
      "text/html": [
       "<div>\n",
       "<style scoped>\n",
       "    .dataframe tbody tr th:only-of-type {\n",
       "        vertical-align: middle;\n",
       "    }\n",
       "\n",
       "    .dataframe tbody tr th {\n",
       "        vertical-align: top;\n",
       "    }\n",
       "\n",
       "    .dataframe thead th {\n",
       "        text-align: right;\n",
       "    }\n",
       "</style>\n",
       "<table border=\"1\" class=\"dataframe\">\n",
       "  <thead>\n",
       "    <tr style=\"text-align: right;\">\n",
       "      <th></th>\n",
       "      <th>rank</th>\n",
       "      <th>team</th>\n",
       "      <th>power_rating</th>\n",
       "      <th>competition_level</th>\n",
       "      <th>gender_division</th>\n",
       "      <th>competition_division</th>\n",
       "      <th>college_region</th>\n",
       "      <th>college_conference</th>\n",
       "      <th>wins</th>\n",
       "      <th>losses</th>\n",
       "    </tr>\n",
       "  </thead>\n",
       "  <tbody>\n",
       "    <tr>\n",
       "      <th>56</th>\n",
       "      <td>57</td>\n",
       "      <td>Virginia</td>\n",
       "      <td>1462</td>\n",
       "      <td>College</td>\n",
       "      <td>Men</td>\n",
       "      <td>Division I</td>\n",
       "      <td>Atlantic Coast</td>\n",
       "      <td>Virginia DI</td>\n",
       "      <td>6</td>\n",
       "      <td>5</td>\n",
       "    </tr>\n",
       "  </tbody>\n",
       "</table>\n",
       "</div>"
      ],
      "text/plain": [
       "   rank      team power_rating competition_level gender_division  \\\n",
       "56   57  Virginia         1462           College             Men   \n",
       "\n",
       "   competition_division  college_region college_conference wins losses  \n",
       "56           Division I  Atlantic Coast        Virginia DI    6      5  "
      ]
     },
     "execution_count": 55,
     "metadata": {},
     "output_type": "execute_result"
    },
    {
     "data": {
      "application/javascript": [
       "\n",
       "            setTimeout(function() {\n",
       "                var nbb_cell_id = 55;\n",
       "                var nbb_formatted_code = \"df_men[df_men[\\\"rank\\\"] == \\\"57\\\"]\";\n",
       "                var nbb_cells = Jupyter.notebook.get_cells();\n",
       "                for (var i = 0; i < nbb_cells.length; ++i) {\n",
       "                    if (nbb_cells[i].input_prompt_number == nbb_cell_id) {\n",
       "                        nbb_cells[i].set_text(nbb_formatted_code);\n",
       "                        break;\n",
       "                    }\n",
       "                }\n",
       "            }, 500);\n",
       "            "
      ],
      "text/plain": [
       "<IPython.core.display.Javascript object>"
      ]
     },
     "metadata": {},
     "output_type": "display_data"
    }
   ],
   "source": []
  },
  {
   "cell_type": "code",
   "execution_count": 47,
   "metadata": {},
   "outputs": [
    {
     "data": {
      "text/html": [
       "<div>\n",
       "<style scoped>\n",
       "    .dataframe tbody tr th:only-of-type {\n",
       "        vertical-align: middle;\n",
       "    }\n",
       "\n",
       "    .dataframe tbody tr th {\n",
       "        vertical-align: top;\n",
       "    }\n",
       "\n",
       "    .dataframe thead th {\n",
       "        text-align: right;\n",
       "    }\n",
       "</style>\n",
       "<table border=\"1\" class=\"dataframe\">\n",
       "  <thead>\n",
       "    <tr style=\"text-align: right;\">\n",
       "      <th></th>\n",
       "      <th>size</th>\n",
       "      <th>bids</th>\n",
       "    </tr>\n",
       "    <tr>\n",
       "      <th>region</th>\n",
       "      <th></th>\n",
       "      <th></th>\n",
       "    </tr>\n",
       "  </thead>\n",
       "  <tbody>\n",
       "    <tr>\n",
       "      <th>Atlantic Coast</th>\n",
       "      <td>16</td>\n",
       "      <td>1</td>\n",
       "    </tr>\n",
       "    <tr>\n",
       "      <th>Great Lakes</th>\n",
       "      <td>12</td>\n",
       "      <td>1</td>\n",
       "    </tr>\n",
       "    <tr>\n",
       "      <th>Metro East</th>\n",
       "      <td>12</td>\n",
       "      <td>1</td>\n",
       "    </tr>\n",
       "    <tr>\n",
       "      <th>New England</th>\n",
       "      <td>12</td>\n",
       "      <td>3</td>\n",
       "    </tr>\n",
       "    <tr>\n",
       "      <th>North Central</th>\n",
       "      <td>12</td>\n",
       "      <td>2</td>\n",
       "    </tr>\n",
       "    <tr>\n",
       "      <th>Northwest</th>\n",
       "      <td>12</td>\n",
       "      <td>4</td>\n",
       "    </tr>\n",
       "    <tr>\n",
       "      <th>Ohio Valley</th>\n",
       "      <td>16</td>\n",
       "      <td>2</td>\n",
       "    </tr>\n",
       "    <tr>\n",
       "      <th>South Central</th>\n",
       "      <td>16</td>\n",
       "      <td>2</td>\n",
       "    </tr>\n",
       "    <tr>\n",
       "      <th>Southeast</th>\n",
       "      <td>16</td>\n",
       "      <td>1</td>\n",
       "    </tr>\n",
       "    <tr>\n",
       "      <th>Southwest</th>\n",
       "      <td>16</td>\n",
       "      <td>3</td>\n",
       "    </tr>\n",
       "  </tbody>\n",
       "</table>\n",
       "</div>"
      ],
      "text/plain": [
       "                size  bids\n",
       "region                    \n",
       "Atlantic Coast    16     1\n",
       "Great Lakes       12     1\n",
       "Metro East        12     1\n",
       "New England       12     3\n",
       "North Central     12     2\n",
       "Northwest         12     4\n",
       "Ohio Valley       16     2\n",
       "South Central     16     2\n",
       "Southeast         16     1\n",
       "Southwest         16     3"
      ]
     },
     "execution_count": 47,
     "metadata": {},
     "output_type": "execute_result"
    },
    {
     "data": {
      "application/javascript": [
       "\n",
       "            setTimeout(function() {\n",
       "                var nbb_cell_id = 47;\n",
       "                var nbb_formatted_code = \"def calculate_size_and_bids(tables, rankings):\\n    total_bids = 20\\n    # store boolean for whether autobid has been reached while iterating through rankings\\n    _bids = {region: [1, False] for region in d1.college_region.unique()}\\n    for i, team in d1.iterrows():\\n        if sum(v[0] for k, v in _bids.items()) < total_bids:\\n            if _bids[team.college_region][1]:\\n                _bids[team.college_region][0] += 1\\n            else:\\n                _bids[team.college_region][1] = True\\n\\n    # now just a dict of region name: number of bids\\n    bids = {k: v[0] for k, v in _bids.items()}\\n\\n    conference_lookup = (\\n        rankings.drop_duplicates(subset=[\\\"college_conference\\\", \\\"college_region\\\"])\\n        .set_index(\\\"college_conference\\\")\\n        .college_region.to_dict()\\n    )\\n\\n    combined = (\\n        pd.concat(\\n            [\\n                table\\n                for table in tables\\n                if table.columns.isin(\\n                    [\\\"Conference\\\", \\\"Division\\\", \\\"Auto bids\\\", \\\"Strength bids\\\", \\\"Total\\\"]\\n                ).min()\\n                and (table.Division == \\\"D-I\\\").max()\\n            ]\\n        )\\n        .reset_index(drop=True)\\n        .assign(region=lambda x: x[\\\"Conference\\\"].map(conference_lookup))\\n    )\\n    region_details = (\\n        combined.groupby(\\\"region\\\")\\n        .Total.sum()\\n        .rename(\\\"size\\\")\\n        .to_frame()\\n        .assign(bids=lambda x: x.index.map(bids))\\n    )\\n    return region_details\\n\\n\\nmens_region_details = calculate_size_and_bids(\\n    pd.read_html(\\\"./Rankings/2019CollegeMensDivisionBidAllocation.htm\\\", header=0),\\n    df_men,\\n)\\nmens_region_details.loc[\\\"North Central\\\", \\\"size\\\"] = 12\\nmens_region_details.loc[\\\"Northwest\\\", \\\"size\\\"] = 12\\nmens_region_details\";\n",
       "                var nbb_cells = Jupyter.notebook.get_cells();\n",
       "                for (var i = 0; i < nbb_cells.length; ++i) {\n",
       "                    if (nbb_cells[i].input_prompt_number == nbb_cell_id) {\n",
       "                        nbb_cells[i].set_text(nbb_formatted_code);\n",
       "                        break;\n",
       "                    }\n",
       "                }\n",
       "            }, 500);\n",
       "            "
      ],
      "text/plain": [
       "<IPython.core.display.Javascript object>"
      ]
     },
     "metadata": {},
     "output_type": "display_data"
    }
   ],
   "source": [
    "def calculate_size_and_bids(tables, rankings):\n",
    "    total_bids = 20\n",
    "    # store boolean for whether autobid has been reached while iterating through rankings\n",
    "    _bids = {region: [1, False] for region in d1.college_region.unique()}\n",
    "    for i, team in d1.iterrows():\n",
    "        if sum(v[0] for k, v in _bids.items()) < total_bids:\n",
    "            if _bids[team.college_region][1]:\n",
    "                _bids[team.college_region][0] += 1\n",
    "            else:\n",
    "                _bids[team.college_region][1] = True\n",
    "\n",
    "    # now just a dict of region name: number of bids\n",
    "    bids = {k: v[0] for k, v in _bids.items()}\n",
    "\n",
    "    conference_lookup = (\n",
    "        rankings.drop_duplicates(subset=[\"college_conference\", \"college_region\"])\n",
    "        .set_index(\"college_conference\")\n",
    "        .college_region.to_dict()\n",
    "    )\n",
    "\n",
    "    combined = (\n",
    "        pd.concat(\n",
    "            [\n",
    "                table\n",
    "                for table in tables\n",
    "                if table.columns.isin(\n",
    "                    [\"Conference\", \"Division\", \"Auto bids\", \"Strength bids\", \"Total\"]\n",
    "                ).min()\n",
    "                and (table.Division == \"D-I\").max()\n",
    "            ]\n",
    "        )\n",
    "        .reset_index(drop=True)\n",
    "        .assign(region=lambda x: x[\"Conference\"].map(conference_lookup))\n",
    "    )\n",
    "    region_details = (\n",
    "        combined.groupby(\"region\")\n",
    "        .Total.sum()\n",
    "        .rename(\"size\")\n",
    "        .to_frame()\n",
    "        .assign(bids=lambda x: x.index.map(bids))\n",
    "    )\n",
    "    return region_details\n",
    "\n",
    "\n",
    "mens_region_details = calculate_size_and_bids(\n",
    "    pd.read_html(\"./Rankings/2019CollegeMensDivisionBidAllocation.htm\", header=0),\n",
    "    df_men,\n",
    ")\n",
    "mens_region_details.loc[\"North Central\", \"size\"] = 12\n",
    "mens_region_details.loc[\"Northwest\", \"size\"] = 12\n",
    "mens_region_details"
   ]
  },
  {
   "cell_type": "code",
   "execution_count": 48,
   "metadata": {},
   "outputs": [
    {
     "data": {
      "text/html": [
       "<div>\n",
       "<style scoped>\n",
       "    .dataframe tbody tr th:only-of-type {\n",
       "        vertical-align: middle;\n",
       "    }\n",
       "\n",
       "    .dataframe tbody tr th {\n",
       "        vertical-align: top;\n",
       "    }\n",
       "\n",
       "    .dataframe thead th {\n",
       "        text-align: right;\n",
       "    }\n",
       "</style>\n",
       "<table border=\"1\" class=\"dataframe\">\n",
       "  <thead>\n",
       "    <tr style=\"text-align: right;\">\n",
       "      <th></th>\n",
       "      <th>size</th>\n",
       "      <th>bids</th>\n",
       "    </tr>\n",
       "    <tr>\n",
       "      <th>region</th>\n",
       "      <th></th>\n",
       "      <th></th>\n",
       "    </tr>\n",
       "  </thead>\n",
       "  <tbody>\n",
       "    <tr>\n",
       "      <th>Atlantic Coast</th>\n",
       "      <td>15</td>\n",
       "      <td>1</td>\n",
       "    </tr>\n",
       "    <tr>\n",
       "      <th>Great Lakes</th>\n",
       "      <td>5</td>\n",
       "      <td>1</td>\n",
       "    </tr>\n",
       "    <tr>\n",
       "      <th>Metro East</th>\n",
       "      <td>5</td>\n",
       "      <td>1</td>\n",
       "    </tr>\n",
       "    <tr>\n",
       "      <th>New England</th>\n",
       "      <td>10</td>\n",
       "      <td>3</td>\n",
       "    </tr>\n",
       "    <tr>\n",
       "      <th>North Central</th>\n",
       "      <td>4</td>\n",
       "      <td>2</td>\n",
       "    </tr>\n",
       "    <tr>\n",
       "      <th>Northwest</th>\n",
       "      <td>10</td>\n",
       "      <td>4</td>\n",
       "    </tr>\n",
       "    <tr>\n",
       "      <th>Ohio Valley</th>\n",
       "      <td>6</td>\n",
       "      <td>2</td>\n",
       "    </tr>\n",
       "    <tr>\n",
       "      <th>South Central</th>\n",
       "      <td>10</td>\n",
       "      <td>2</td>\n",
       "    </tr>\n",
       "    <tr>\n",
       "      <th>Southeast</th>\n",
       "      <td>16</td>\n",
       "      <td>1</td>\n",
       "    </tr>\n",
       "    <tr>\n",
       "      <th>Southwest</th>\n",
       "      <td>16</td>\n",
       "      <td>3</td>\n",
       "    </tr>\n",
       "  </tbody>\n",
       "</table>\n",
       "</div>"
      ],
      "text/plain": [
       "                size  bids\n",
       "region                    \n",
       "Atlantic Coast    15     1\n",
       "Great Lakes        5     1\n",
       "Metro East         5     1\n",
       "New England       10     3\n",
       "North Central      4     2\n",
       "Northwest         10     4\n",
       "Ohio Valley        6     2\n",
       "South Central     10     2\n",
       "Southeast         16     1\n",
       "Southwest         16     3"
      ]
     },
     "execution_count": 48,
     "metadata": {},
     "output_type": "execute_result"
    },
    {
     "data": {
      "application/javascript": [
       "\n",
       "            setTimeout(function() {\n",
       "                var nbb_cell_id = 48;\n",
       "                var nbb_formatted_code = \"womens_region_details = calculate_size_and_bids(\\n    pd.read_html(\\\"./Rankings/2019CollegeMensDivisionBidAllocation.htm\\\", header=0),\\n    df_women,\\n)\\nwomens_region_details\";\n",
       "                var nbb_cells = Jupyter.notebook.get_cells();\n",
       "                for (var i = 0; i < nbb_cells.length; ++i) {\n",
       "                    if (nbb_cells[i].input_prompt_number == nbb_cell_id) {\n",
       "                        nbb_cells[i].set_text(nbb_formatted_code);\n",
       "                        break;\n",
       "                    }\n",
       "                }\n",
       "            }, 500);\n",
       "            "
      ],
      "text/plain": [
       "<IPython.core.display.Javascript object>"
      ]
     },
     "metadata": {},
     "output_type": "display_data"
    }
   ],
   "source": [
    "womens_region_details = calculate_size_and_bids(\n",
    "    pd.read_html(\"./Rankings/2019CollegeMensDivisionBidAllocation.htm\", header=0),\n",
    "    df_women,\n",
    ")\n",
    "womens_region_details"
   ]
  },
  {
   "cell_type": "code",
   "execution_count": 46,
   "metadata": {},
   "outputs": [
    {
     "name": "stdout",
     "output_type": "stream",
     "text": [
      "USAU Rank            368\n",
      "Team                 374\n",
      "USAU Power Rating    374\n",
      "Wins                 374\n",
      "Losses               374\n",
      "Adjusted Rating       22\n",
      "Notes                  8\n",
      "dtype: int64\n"
     ]
    },
    {
     "data": {
      "text/html": [
       "<div>\n",
       "<style scoped>\n",
       "    .dataframe tbody tr th:only-of-type {\n",
       "        vertical-align: middle;\n",
       "    }\n",
       "\n",
       "    .dataframe tbody tr th {\n",
       "        vertical-align: top;\n",
       "    }\n",
       "\n",
       "    .dataframe thead th {\n",
       "        text-align: right;\n",
       "    }\n",
       "</style>\n",
       "<table border=\"1\" class=\"dataframe\">\n",
       "  <thead>\n",
       "    <tr style=\"text-align: right;\">\n",
       "      <th></th>\n",
       "      <th>USAU Rank</th>\n",
       "      <th>Team</th>\n",
       "      <th>USAU Power Rating</th>\n",
       "      <th>Wins</th>\n",
       "      <th>Losses</th>\n",
       "      <th>Adjusted Rating</th>\n",
       "      <th>Notes</th>\n",
       "    </tr>\n",
       "  </thead>\n",
       "  <tbody>\n",
       "    <tr>\n",
       "      <th>0</th>\n",
       "      <td>1.0</td>\n",
       "      <td>North Carolina</td>\n",
       "      <td>2340.0</td>\n",
       "      <td>18.0</td>\n",
       "      <td>0.0</td>\n",
       "      <td>NaN</td>\n",
       "      <td>NaN</td>\n",
       "    </tr>\n",
       "    <tr>\n",
       "      <th>1</th>\n",
       "      <td>2.0</td>\n",
       "      <td>Washington</td>\n",
       "      <td>2291.0</td>\n",
       "      <td>20.0</td>\n",
       "      <td>2.0</td>\n",
       "      <td>2278</td>\n",
       "      <td>NaN</td>\n",
       "    </tr>\n",
       "    <tr>\n",
       "      <th>2</th>\n",
       "      <td>3.0</td>\n",
       "      <td>Cal Poly-SLO</td>\n",
       "      <td>2194.0</td>\n",
       "      <td>18.0</td>\n",
       "      <td>5.0</td>\n",
       "      <td>2270</td>\n",
       "      <td>NaN</td>\n",
       "    </tr>\n",
       "    <tr>\n",
       "      <th>3</th>\n",
       "      <td>4.0</td>\n",
       "      <td>Brigham Young</td>\n",
       "      <td>2190.0</td>\n",
       "      <td>13.0</td>\n",
       "      <td>1.0</td>\n",
       "      <td>2286</td>\n",
       "      <td>15-13 vs. UNC</td>\n",
       "    </tr>\n",
       "    <tr>\n",
       "      <th>4</th>\n",
       "      <td>5.0</td>\n",
       "      <td>Colorado</td>\n",
       "      <td>2169.0</td>\n",
       "      <td>12.0</td>\n",
       "      <td>3.0</td>\n",
       "      <td>2230</td>\n",
       "      <td>NaN</td>\n",
       "    </tr>\n",
       "    <tr>\n",
       "      <th>...</th>\n",
       "      <td>...</td>\n",
       "      <td>...</td>\n",
       "      <td>...</td>\n",
       "      <td>...</td>\n",
       "      <td>...</td>\n",
       "      <td>...</td>\n",
       "      <td>...</td>\n",
       "    </tr>\n",
       "    <tr>\n",
       "      <th>371</th>\n",
       "      <td>377.0</td>\n",
       "      <td>MIT B</td>\n",
       "      <td>-736.0</td>\n",
       "      <td>0.0</td>\n",
       "      <td>6.0</td>\n",
       "      <td>NaN</td>\n",
       "      <td>NaN</td>\n",
       "    </tr>\n",
       "    <tr>\n",
       "      <th>372</th>\n",
       "      <td>379.0</td>\n",
       "      <td>Virginia Commonwealth University B</td>\n",
       "      <td>-743.0</td>\n",
       "      <td>1.0</td>\n",
       "      <td>6.0</td>\n",
       "      <td>NaN</td>\n",
       "      <td>NaN</td>\n",
       "    </tr>\n",
       "    <tr>\n",
       "      <th>373</th>\n",
       "      <td>381.0</td>\n",
       "      <td>Oberlin B</td>\n",
       "      <td>-770.0</td>\n",
       "      <td>0.0</td>\n",
       "      <td>5.0</td>\n",
       "      <td>NaN</td>\n",
       "      <td>NaN</td>\n",
       "    </tr>\n",
       "    <tr>\n",
       "      <th>374</th>\n",
       "      <td>382.0</td>\n",
       "      <td>St Mary's (Maryland)</td>\n",
       "      <td>-844.0</td>\n",
       "      <td>1.0</td>\n",
       "      <td>10.0</td>\n",
       "      <td>NaN</td>\n",
       "      <td>NaN</td>\n",
       "    </tr>\n",
       "    <tr>\n",
       "      <th>375</th>\n",
       "      <td>383.0</td>\n",
       "      <td>NaN</td>\n",
       "      <td>NaN</td>\n",
       "      <td>NaN</td>\n",
       "      <td>NaN</td>\n",
       "      <td>NaN</td>\n",
       "      <td>NaN</td>\n",
       "    </tr>\n",
       "  </tbody>\n",
       "</table>\n",
       "<p>368 rows × 7 columns</p>\n",
       "</div>"
      ],
      "text/plain": [
       "     USAU Rank                                Team  USAU Power Rating  Wins  \\\n",
       "0          1.0                      North Carolina             2340.0  18.0   \n",
       "1          2.0                          Washington             2291.0  20.0   \n",
       "2          3.0                        Cal Poly-SLO             2194.0  18.0   \n",
       "3          4.0                       Brigham Young             2190.0  13.0   \n",
       "4          5.0                            Colorado             2169.0  12.0   \n",
       "..         ...                                 ...                ...   ...   \n",
       "371      377.0                               MIT B             -736.0   0.0   \n",
       "372      379.0  Virginia Commonwealth University B             -743.0   1.0   \n",
       "373      381.0                           Oberlin B             -770.0   0.0   \n",
       "374      382.0                St Mary's (Maryland)             -844.0   1.0   \n",
       "375      383.0                                 NaN                NaN   NaN   \n",
       "\n",
       "     Losses Adjusted Rating          Notes  \n",
       "0       0.0             NaN            NaN  \n",
       "1       2.0            2278            NaN  \n",
       "2       5.0            2270            NaN  \n",
       "3       1.0            2286  15-13 vs. UNC  \n",
       "4       3.0            2230            NaN  \n",
       "..      ...             ...            ...  \n",
       "371     6.0             NaN            NaN  \n",
       "372     6.0             NaN            NaN  \n",
       "373     5.0             NaN            NaN  \n",
       "374    10.0             NaN            NaN  \n",
       "375     NaN             NaN            NaN  \n",
       "\n",
       "[368 rows x 7 columns]"
      ]
     },
     "execution_count": 46,
     "metadata": {},
     "output_type": "execute_result"
    },
    {
     "data": {
      "application/javascript": [
       "\n",
       "            setTimeout(function() {\n",
       "                var nbb_cell_id = 46;\n",
       "                var nbb_formatted_code = \"custom_ranks = pd.read_excel(\\n    \\\"./Rankings/USAU ratings and human tuning.xlsx\\\", sheet_name=\\\"Men\\\"\\n)\\nprint(custom_ranks.count())\\ncustom_ranks.dropna(subset=[\\\"USAU Rank\\\"])\";\n",
       "                var nbb_cells = Jupyter.notebook.get_cells();\n",
       "                for (var i = 0; i < nbb_cells.length; ++i) {\n",
       "                    if (nbb_cells[i].input_prompt_number == nbb_cell_id) {\n",
       "                        nbb_cells[i].set_text(nbb_formatted_code);\n",
       "                        break;\n",
       "                    }\n",
       "                }\n",
       "            }, 500);\n",
       "            "
      ],
      "text/plain": [
       "<IPython.core.display.Javascript object>"
      ]
     },
     "metadata": {},
     "output_type": "display_data"
    }
   ],
   "source": []
  },
  {
   "cell_type": "code",
   "execution_count": null,
   "metadata": {},
   "outputs": [],
   "source": []
  }
 ],
 "metadata": {
  "kernelspec": {
   "display_name": "Python 3",
   "language": "python",
   "name": "python3"
  },
  "language_info": {
   "codemirror_mode": {
    "name": "ipython",
    "version": 3
   },
   "file_extension": ".py",
   "mimetype": "text/x-python",
   "name": "python",
   "nbconvert_exporter": "python",
   "pygments_lexer": "ipython3",
   "version": "3.7.6"
  }
 },
 "nbformat": 4,
 "nbformat_minor": 4
}
